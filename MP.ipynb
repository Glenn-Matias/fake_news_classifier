{
  "nbformat": 4,
  "nbformat_minor": 0,
  "metadata": {
    "colab": {
      "name": "MP.ipynb",
      "provenance": [],
      "collapsed_sections": [],
      "authorship_tag": "ABX9TyNUWWQ2ycixNgozIM7tTVKg",
      "include_colab_link": true
    },
    "kernelspec": {
      "name": "python3",
      "display_name": "Python 3"
    },
    "language_info": {
      "name": "python"
    }
  },
  "cells": [
    {
      "cell_type": "markdown",
      "metadata": {
        "id": "view-in-github",
        "colab_type": "text"
      },
      "source": [
        "<a href=\"https://colab.research.google.com/github/Glenn-Matias/fake_news_classifier/blob/main/MP.ipynb\" target=\"_parent\"><img src=\"https://colab.research.google.com/assets/colab-badge.svg\" alt=\"Open In Colab\"/></a>"
      ]
    },
    {
      "cell_type": "code",
      "metadata": {
        "id": "Un5g3c-XrBc9",
        "colab": {
          "base_uri": "https://localhost:8080/"
        },
        "outputId": "19615a2b-276e-4250-ee08-7d1b46e78ed6"
      },
      "source": [
        "##import the required libraries and APIs\n",
        "import numpy as np\n",
        "import tensorflow as tf\n",
        "from tensorflow.keras.preprocessing.text import Tokenizer\n",
        "from tensorflow.keras.preprocessing.sequence import pad_sequences\n",
        "import pandas as pd\n",
        "print(tf.__version__)"
      ],
      "execution_count": null,
      "outputs": [
        {
          "output_type": "stream",
          "name": "stdout",
          "text": [
            "2.6.0\n"
          ]
        }
      ]
    },
    {
      "cell_type": "code",
      "metadata": {
        "colab": {
          "base_uri": "https://localhost:8080/"
        },
        "id": "HoSwd0oYup88",
        "outputId": "5c2f70af-ebe0-4901-d140-be2ce7360130"
      },
      "source": [
        "!wget --no-check-certificate \\\n",
        "    https://s3.us-east-2.amazonaws.com/blaisecruz.com/datasets/fakenews/fakenews.zip\n",
        "!unzip \"/content/fakenews.zip\" -d \"/content/fakenews\""
      ],
      "execution_count": null,
      "outputs": [
        {
          "output_type": "stream",
          "name": "stdout",
          "text": [
            "--2021-09-18 07:18:44--  https://s3.us-east-2.amazonaws.com/blaisecruz.com/datasets/fakenews/fakenews.zip\n",
            "Resolving s3.us-east-2.amazonaws.com (s3.us-east-2.amazonaws.com)... 52.219.103.73\n",
            "Connecting to s3.us-east-2.amazonaws.com (s3.us-east-2.amazonaws.com)|52.219.103.73|:443... connected.\n",
            "HTTP request sent, awaiting response... 200 OK\n",
            "Length: 1313458 (1.3M) [application/zip]\n",
            "Saving to: ‘fakenews.zip.1’\n",
            "\n",
            "fakenews.zip.1      100%[===================>]   1.25M  3.60MB/s    in 0.3s    \n",
            "\n",
            "2021-09-18 07:18:45 (3.60 MB/s) - ‘fakenews.zip.1’ saved [1313458/1313458]\n",
            "\n",
            "Archive:  /content/fakenews.zip\n",
            "   creating: /content/fakenews/fakenews/\n",
            "  inflating: /content/fakenews/fakenews/full.csv  \n"
          ]
        }
      ]
    },
    {
      "cell_type": "code",
      "metadata": {
        "id": "v3gYV7dAu61s",
        "colab": {
          "base_uri": "https://localhost:8080/",
          "height": 204
        },
        "outputId": "294edc06-e948-4b6f-c84a-b82672f649ed"
      },
      "source": [
        "data = pd.read_csv(\"./fakenews/fakenews/full.csv\")\n",
        "data.head()"
      ],
      "execution_count": null,
      "outputs": [
        {
          "output_type": "execute_result",
          "data": {
            "text/html": [
              "<div>\n",
              "<style scoped>\n",
              "    .dataframe tbody tr th:only-of-type {\n",
              "        vertical-align: middle;\n",
              "    }\n",
              "\n",
              "    .dataframe tbody tr th {\n",
              "        vertical-align: top;\n",
              "    }\n",
              "\n",
              "    .dataframe thead th {\n",
              "        text-align: right;\n",
              "    }\n",
              "</style>\n",
              "<table border=\"1\" class=\"dataframe\">\n",
              "  <thead>\n",
              "    <tr style=\"text-align: right;\">\n",
              "      <th></th>\n",
              "      <th>label</th>\n",
              "      <th>article</th>\n",
              "    </tr>\n",
              "  </thead>\n",
              "  <tbody>\n",
              "    <tr>\n",
              "      <th>0</th>\n",
              "      <td>0</td>\n",
              "      <td>Ayon sa TheWrap.com, naghain ng kaso si Krupa,...</td>\n",
              "    </tr>\n",
              "    <tr>\n",
              "      <th>1</th>\n",
              "      <td>0</td>\n",
              "      <td>Kilala rin ang singer sa pagkumpas ng kanyang ...</td>\n",
              "    </tr>\n",
              "    <tr>\n",
              "      <th>2</th>\n",
              "      <td>0</td>\n",
              "      <td>BLANTYRE, Malawi (AP) -- Bumiyahe patungong Ma...</td>\n",
              "    </tr>\n",
              "    <tr>\n",
              "      <th>3</th>\n",
              "      <td>0</td>\n",
              "      <td>Kasama sa programa ang pananalangin, bulaklak ...</td>\n",
              "    </tr>\n",
              "    <tr>\n",
              "      <th>4</th>\n",
              "      <td>0</td>\n",
              "      <td>Linisin ang Friendship Department dahil dadala...</td>\n",
              "    </tr>\n",
              "  </tbody>\n",
              "</table>\n",
              "</div>"
            ],
            "text/plain": [
              "   label                                            article\n",
              "0      0  Ayon sa TheWrap.com, naghain ng kaso si Krupa,...\n",
              "1      0  Kilala rin ang singer sa pagkumpas ng kanyang ...\n",
              "2      0  BLANTYRE, Malawi (AP) -- Bumiyahe patungong Ma...\n",
              "3      0  Kasama sa programa ang pananalangin, bulaklak ...\n",
              "4      0  Linisin ang Friendship Department dahil dadala..."
            ]
          },
          "metadata": {},
          "execution_count": 8
        }
      ]
    },
    {
      "cell_type": "code",
      "metadata": {
        "id": "pdjWPQs1vRHV",
        "colab": {
          "base_uri": "https://localhost:8080/"
        },
        "outputId": "e6b1b765-633a-4112-a7b9-c5f7ebb1475d"
      },
      "source": [
        "data.info()"
      ],
      "execution_count": null,
      "outputs": [
        {
          "output_type": "stream",
          "name": "stdout",
          "text": [
            "<class 'pandas.core.frame.DataFrame'>\n",
            "RangeIndex: 3206 entries, 0 to 3205\n",
            "Data columns (total 2 columns):\n",
            " #   Column   Non-Null Count  Dtype \n",
            "---  ------   --------------  ----- \n",
            " 0   label    3206 non-null   int64 \n",
            " 1   article  3206 non-null   object\n",
            "dtypes: int64(1), object(1)\n",
            "memory usage: 50.2+ KB\n"
          ]
        }
      ]
    },
    {
      "cell_type": "code",
      "metadata": {
        "id": "GKFdH_2ixZGa"
      },
      "source": [
        "##store headlines and labels in respective lists\n",
        "news = list(data['article'])\n",
        "labels = list(data['label'])"
      ],
      "execution_count": null,
      "outputs": []
    },
    {
      "cell_type": "code",
      "metadata": {
        "id": "WaauQ1qUxjxo",
        "colab": {
          "base_uri": "https://localhost:8080/"
        },
        "outputId": "2ec9a296-032b-48c8-eaa1-b864eacaeb42"
      },
      "source": [
        "data.shape"
      ],
      "execution_count": null,
      "outputs": [
        {
          "output_type": "execute_result",
          "data": {
            "text/plain": [
              "(3206, 2)"
            ]
          },
          "metadata": {},
          "execution_count": 11
        }
      ]
    },
    {
      "cell_type": "code",
      "metadata": {
        "id": "qj2oMcUGxe3B"
      },
      "source": [
        "##define tokenizing and padding parameters\n",
        "vocab_size = 10000 # should be the number of distinct words in the dataset\n",
        "max_length = 120 # should be the max length all the training set\n",
        "embedding_dim = 16\n",
        "trunc_type='post' # drops the excess sequences at the end of the sequence\n",
        "padding_type='post' # add zeroesto the end part of the sequence\n",
        "oov_tok = \"<OOV>\"\n"
      ],
      "execution_count": null,
      "outputs": []
    },
    {
      "cell_type": "code",
      "metadata": {
        "id": "EEeoeIWtxquv"
      },
      "source": [
        "# ##sentences\n",
        "# training_sentences = news[0:training_size]\n",
        "# testing_sentences = news[training_size:]\n",
        "\n",
        "# ##labels\n",
        "# training_labels = labels[0:training_size]\n",
        "# testing_labels = labels[training_size:]\n",
        "\n",
        "\n",
        "from sklearn.model_selection import train_test_split\n",
        "training_sentences, testing_sentences, training_labels, testing_labels = train_test_split(news, labels, test_size=0.20, random_state=33)\n"
      ],
      "execution_count": null,
      "outputs": []
    },
    {
      "cell_type": "code",
      "metadata": {
        "id": "XZz41qumxsn0"
      },
      "source": [
        "tokenizer = Tokenizer(num_words=vocab_size, oov_token=oov_tok)\n",
        "tokenizer.fit_on_texts(training_sentences)\n",
        "\n",
        "word_index = tokenizer.word_index\n",
        "\n",
        "print(word_index) # show the tokenized words\n",
        "\n",
        "training_sequences = tokenizer.texts_to_sequences(training_sentences)\n",
        "training_padded = pad_sequences(training_sequences, maxlen=max_length, padding=padding_type, truncating=trunc_type)\n",
        "\n",
        "testing_sequences = tokenizer.texts_to_sequences(testing_sentences)\n",
        "testing_padded = pad_sequences(testing_sequences, maxlen=max_length, padding=padding_type, truncating=trunc_type)"
      ],
      "execution_count": null,
      "outputs": []
    },
    {
      "cell_type": "code",
      "metadata": {
        "id": "Ni18ksrex2h5"
      },
      "source": [
        "# convert lists into numpy arrays to make it work with TensorFlow 2.x\n",
        "training_padded = np.array(training_padded)\n",
        "training_labels = np.array(training_labels)\n",
        "testing_padded = np.array(testing_padded)\n",
        "testing_labels = np.array(testing_labels)"
      ],
      "execution_count": null,
      "outputs": []
    },
    {
      "cell_type": "code",
      "metadata": {
        "id": "v6RTFJ0tx4Tm",
        "colab": {
          "base_uri": "https://localhost:8080/"
        },
        "outputId": "53296071-03c8-4b48-a1e1-2258b37f8c68"
      },
      "source": [
        "model = tf.keras.Sequential([\n",
        "    tf.keras.layers.Embedding(vocab_size, embedding_dim, input_length=max_length),\n",
        "    tf.keras.layers.GlobalAveragePooling1D(),\n",
        "    tf.keras.layers.Dense(24, activation='relu'),\n",
        "    tf.keras.layers.Dense(1, activation='sigmoid')\n",
        "])\n",
        "\n",
        "##compile the model\n",
        "model.compile(loss='binary_crossentropy',optimizer='adam',metrics=['accuracy'])\n",
        "model.summary()"
      ],
      "execution_count": 22,
      "outputs": [
        {
          "output_type": "stream",
          "name": "stdout",
          "text": [
            "Model: \"sequential_1\"\n",
            "_________________________________________________________________\n",
            "Layer (type)                 Output Shape              Param #   \n",
            "=================================================================\n",
            "embedding_1 (Embedding)      (None, 120, 16)           160000    \n",
            "_________________________________________________________________\n",
            "global_average_pooling1d_1 ( (None, 16)                0         \n",
            "_________________________________________________________________\n",
            "dense_2 (Dense)              (None, 24)                408       \n",
            "_________________________________________________________________\n",
            "dense_3 (Dense)              (None, 1)                 25        \n",
            "=================================================================\n",
            "Total params: 160,433\n",
            "Trainable params: 160,433\n",
            "Non-trainable params: 0\n",
            "_________________________________________________________________\n"
          ]
        }
      ]
    },
    {
      "cell_type": "code",
      "metadata": {
        "id": "hBlxPZqCx6uq",
        "colab": {
          "base_uri": "https://localhost:8080/"
        },
        "outputId": "1ebe837f-972c-4b30-a77e-f239a07bd3cf"
      },
      "source": [
        "num_epochs = 30\n",
        "history = model.fit(training_padded, \n",
        "                    training_labels, \n",
        "                    epochs=num_epochs, \n",
        "                    validation_data=(testing_padded, testing_labels), \n",
        "                    verbose=2)"
      ],
      "execution_count": null,
      "outputs": [
        {
          "output_type": "stream",
          "name": "stdout",
          "text": [
            "Epoch 1/30\n",
            "81/81 - 1s - loss: 0.6675 - accuracy: 0.7395 - val_loss: 0.6168 - val_accuracy: 0.7664\n",
            "Epoch 2/30\n",
            "81/81 - 0s - loss: 0.5273 - accuracy: 0.7800 - val_loss: 0.4390 - val_accuracy: 0.8474\n",
            "Epoch 3/30\n",
            "81/81 - 0s - loss: 0.3680 - accuracy: 0.8795 - val_loss: 0.3428 - val_accuracy: 0.8956\n",
            "Epoch 4/30\n",
            "81/81 - 0s - loss: 0.2676 - accuracy: 0.9321 - val_loss: 0.2857 - val_accuracy: 0.9112\n",
            "Epoch 5/30\n",
            "81/81 - 0s - loss: 0.1883 - accuracy: 0.9532 - val_loss: 0.2426 - val_accuracy: 0.9097\n",
            "Epoch 6/30\n",
            "81/81 - 0s - loss: 0.1344 - accuracy: 0.9688 - val_loss: 0.1997 - val_accuracy: 0.9268\n",
            "Epoch 7/30\n",
            "81/81 - 0s - loss: 0.0982 - accuracy: 0.9817 - val_loss: 0.1890 - val_accuracy: 0.9221\n",
            "Epoch 8/30\n",
            "81/81 - 0s - loss: 0.0735 - accuracy: 0.9867 - val_loss: 0.1819 - val_accuracy: 0.9221\n",
            "Epoch 9/30\n",
            "81/81 - 0s - loss: 0.0562 - accuracy: 0.9902 - val_loss: 0.1610 - val_accuracy: 0.9283\n",
            "Epoch 10/30\n",
            "81/81 - 0s - loss: 0.0433 - accuracy: 0.9930 - val_loss: 0.1630 - val_accuracy: 0.9252\n",
            "Epoch 11/30\n",
            "81/81 - 0s - loss: 0.0344 - accuracy: 0.9934 - val_loss: 0.1657 - val_accuracy: 0.9330\n",
            "Epoch 12/30\n",
            "81/81 - 0s - loss: 0.0281 - accuracy: 0.9945 - val_loss: 0.1486 - val_accuracy: 0.9377\n",
            "Epoch 13/30\n",
            "81/81 - 0s - loss: 0.0229 - accuracy: 0.9961 - val_loss: 0.1498 - val_accuracy: 0.9393\n",
            "Epoch 14/30\n",
            "81/81 - 0s - loss: 0.0188 - accuracy: 0.9973 - val_loss: 0.1499 - val_accuracy: 0.9393\n",
            "Epoch 15/30\n",
            "81/81 - 0s - loss: 0.0159 - accuracy: 0.9977 - val_loss: 0.1524 - val_accuracy: 0.9424\n",
            "Epoch 16/30\n",
            "81/81 - 0s - loss: 0.0139 - accuracy: 0.9984 - val_loss: 0.1579 - val_accuracy: 0.9361\n",
            "Epoch 17/30\n",
            "81/81 - 0s - loss: 0.0122 - accuracy: 0.9984 - val_loss: 0.1592 - val_accuracy: 0.9377\n",
            "Epoch 18/30\n",
            "81/81 - 0s - loss: 0.0105 - accuracy: 0.9984 - val_loss: 0.1580 - val_accuracy: 0.9408\n",
            "Epoch 19/30\n",
            "81/81 - 0s - loss: 0.0094 - accuracy: 0.9984 - val_loss: 0.1660 - val_accuracy: 0.9361\n",
            "Epoch 20/30\n",
            "81/81 - 0s - loss: 0.0086 - accuracy: 0.9984 - val_loss: 0.1662 - val_accuracy: 0.9377\n",
            "Epoch 21/30\n",
            "81/81 - 0s - loss: 0.0074 - accuracy: 0.9988 - val_loss: 0.1695 - val_accuracy: 0.9377\n",
            "Epoch 22/30\n",
            "81/81 - 0s - loss: 0.0063 - accuracy: 0.9984 - val_loss: 0.1578 - val_accuracy: 0.9455\n",
            "Epoch 23/30\n",
            "81/81 - 0s - loss: 0.0059 - accuracy: 0.9988 - val_loss: 0.1684 - val_accuracy: 0.9439\n",
            "Epoch 24/30\n",
            "81/81 - 0s - loss: 0.0054 - accuracy: 0.9984 - val_loss: 0.1749 - val_accuracy: 0.9393\n",
            "Epoch 25/30\n",
            "81/81 - 0s - loss: 0.0046 - accuracy: 0.9984 - val_loss: 0.1746 - val_accuracy: 0.9408\n",
            "Epoch 26/30\n",
            "81/81 - 0s - loss: 0.0043 - accuracy: 0.9988 - val_loss: 0.1746 - val_accuracy: 0.9408\n",
            "Epoch 27/30\n",
            "81/81 - 0s - loss: 0.0038 - accuracy: 0.9988 - val_loss: 0.1850 - val_accuracy: 0.9361\n",
            "Epoch 28/30\n",
            "81/81 - 0s - loss: 0.0032 - accuracy: 0.9996 - val_loss: 0.1790 - val_accuracy: 0.9424\n",
            "Epoch 29/30\n",
            "81/81 - 0s - loss: 0.0030 - accuracy: 0.9996 - val_loss: 0.1855 - val_accuracy: 0.9408\n",
            "Epoch 30/30\n",
            "81/81 - 0s - loss: 0.0027 - accuracy: 0.9996 - val_loss: 0.1848 - val_accuracy: 0.9408\n"
          ]
        }
      ]
    },
    {
      "cell_type": "code",
      "metadata": {
        "id": "75tLuwuqx-Zf",
        "colab": {
          "base_uri": "https://localhost:8080/",
          "height": 545
        },
        "outputId": "50f2c6ae-dc6a-4499-fa16-1b12d727647a"
      },
      "source": [
        "import matplotlib.pyplot as plt\n",
        "\n",
        "##plot the scores from history\n",
        "def plot_graphs(history, string):\n",
        "  plt.plot(history.history[string])\n",
        "  plt.plot(history.history['val_'+string])\n",
        "  plt.legend([string, 'val_'+string])\n",
        "  plt.xlabel(\"Epochs\")\n",
        "  plt.ylabel(string)\n",
        "  plt.show()\n",
        "  \n",
        "plot_graphs(history, \"accuracy\")\n",
        "plot_graphs(history, \"loss\")"
      ],
      "execution_count": null,
      "outputs": [
        {
          "output_type": "display_data",
          "data": {
            "image/png": "[encoded data removed]",
            "text/plain": [
              "<Figure size 432x288 with 1 Axes>"
            ]
          },
          "metadata": {
            "needs_background": "light"
          }
        },
        {
          "output_type": "display_data",
          "data": {
            "image/png": "[encoded data removed]",
            "text/plain": [
              "<Figure size 432x288 with 1 Axes>"
            ]
          },
          "metadata": {
            "needs_background": "light"
          }
        }
      ]
    },
    {
      "cell_type": "code",
      "metadata": {
        "id": "XkYQZT4yyESy",
        "colab": {
          "base_uri": "https://localhost:8080/"
        },
        "outputId": "1fe34408-ccd7-484b-a096-ff1c5c653d13"
      },
      "source": [
        "sentence = [\"Duterte, pinakamagaling na presidente. ayon sa ulat ni mocha uson\", \n",
        "            \"Pilipinas, inuulan ng bagyo\", \n",
        "            \"Nilindol ang Batangas\", \n",
        "            \"Talagang hindi natatakot si President Duterte sa mga Threats na kanyang natatanggap dahil malakas ang paniniwala niya sa ating Poong may Kapal. Kaya mahal na mahal namin kayo President\",\n",
        "            \"Napaka fake news niyo ABS CBN .... galing niyo mag edit, tingnan niyo tunay na post ni MOCHA USON BLOG nandun yung tunay na post video hindi photo... nimal abs cbn madami na kayong naloloko na mga tangang tao\",\n",
        "            \"Sobra Sobrang kahihiyan ang mga ginagawa ng mga PARI ngayon! Dapat sa mga PARING Rapist Maniac at Malilibog ay putulan ng TARUGO!\",\n",
        "            \"Aquino nagalit dahil papalitan ang NAIA ng ‘Manila International Airport?\",\n",
        "            \"Kinumpirma mismo ni Leni Robredo na siya ang Spotted sa Boston, 'Namumulot ng Basura'!\"\n",
        "            ]\n",
        "\n",
        "##prepare the sequences of the sentences in question\n",
        "sequences = tokenizer.texts_to_sequences(sentence) # displays the sequences of words in encoded form\n",
        "padded_seqs = pad_sequences(sequences, maxlen=max_length, padding=padding_type, truncating=trunc_type)\n",
        "\n",
        "print(model.predict(padded_seqs))"
      ],
      "execution_count": null,
      "outputs": [
        {
          "output_type": "stream",
          "name": "stdout",
          "text": [
            "[[0.31058258]\n",
            " [0.0206342 ]\n",
            " [0.01056668]\n",
            " [0.13023445]\n",
            " [0.9981634 ]\n",
            " [0.0155924 ]\n",
            " [0.083478  ]\n",
            " [0.05871609]]\n"
          ]
        }
      ]
    },
    {
      "cell_type": "code",
      "metadata": {
        "id": "CbC2eKk0yTPj",
        "colab": {
          "base_uri": "https://localhost:8080/"
        },
        "outputId": "ac1d3395-9306-4fe5-9e95-b1cc8b98cb45"
      },
      "source": [
        "data[data['label']==1]['article']"
      ],
      "execution_count": null,
      "outputs": [
        {
          "output_type": "execute_result",
          "data": {
            "text/plain": [
              "1603    Isiniwalat ng isang tribal leader ang kabalbal...\n",
              "1604    Kilala ang Univeristy of the Philippines (UP) ...\n",
              "1605    Ayon kay Tourism Secretary Bernadette Romulo-P...\n",
              "1606    Sa opisyal na pagpapakilala ng mga taga-oposis...\n",
              "1607    Hindi pinalampas ni dating Presidential Commun...\n",
              "                              ...                        \n",
              "3201    Hindi pa nai-enjoy ni Giacomo Filibeck ang Pil...\n",
              "3202    Sa isang pahayag, binatikos ng Liberal Party (...\n",
              "3203    Panoorin nyo yung reaction video na ito ni Mr....\n",
              "3204    Para sa mga magkakapatid na laging nagtatalo l...\n",
              "3205    Grabe ibang klase talaga si Vice Ganda kung ma...\n",
              "Name: article, Length: 1603, dtype: object"
            ]
          },
          "metadata": {},
          "execution_count": 21
        }
      ]
    },
    {
      "cell_type": "code",
      "metadata": {
        "id": "kr0R5J1C5dkj"
      },
      "source": [
        ""
      ],
      "execution_count": null,
      "outputs": []
    }
  ]
}