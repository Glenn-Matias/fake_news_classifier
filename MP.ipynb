{
  "nbformat": 4,
  "nbformat_minor": 0,
  "metadata": {
    "colab": {
      "name": "MP.ipynb",
      "provenance": [],
      "collapsed_sections": [],
      "authorship_tag": "ABX9TyPf2YXAr2OPVVolIqGdVXTv",
      "include_colab_link": true
    },
    "kernelspec": {
      "name": "python3",
      "display_name": "Python 3"
    },
    "language_info": {
      "name": "python"
    }
  },
  "cells": [
    {
      "cell_type": "markdown",
      "metadata": {
        "id": "view-in-github",
        "colab_type": "text"
      },
      "source": [
        "<a href=\"https://colab.research.google.com/github/Glenn-Matias/fake_news_classifier/blob/main/MP.ipynb\" target=\"_parent\"><img src=\"https://colab.research.google.com/assets/colab-badge.svg\" alt=\"Open In Colab\"/></a>"
      ]
    },
    {
      "cell_type": "code",
      "metadata": {
        "id": "Un5g3c-XrBc9"
      },
      "source": [
        "##import the required libraries and APIs\n",
        "import numpy as np\n",
        "import tensorflow as tf\n",
        "from tensorflow.keras.preprocessing.text import Tokenizer\n",
        "from tensorflow.keras.preprocessing.sequence import pad_sequences\n",
        "import pandas as pd\n",
        "print(tf.__version__)"
      ],
      "execution_count": null,
      "outputs": []
    },
    {
      "cell_type": "code",
      "metadata": {
        "colab": {
          "base_uri": "https://localhost:8080/"
        },
        "id": "HoSwd0oYup88",
        "outputId": "3dad8fbd-53bc-4e08-db83-54ec7488b8b0"
      },
      "source": [
        "!wget --no-check-certificate \\\n",
        "    https://s3.us-east-2.amazonaws.com/blaisecruz.com/datasets/fakenews/fakenews.zip\n",
        "# !unzip \"/content/fakenews.zip\" -d \"/content/fakenews\""
      ],
      "execution_count": 98,
      "outputs": [
        {
          "output_type": "stream",
          "name": "stdout",
          "text": [
            "--2021-09-05 08:40:21--  https://s3.us-east-2.amazonaws.com/blaisecruz.com/datasets/fakenews/fakenews.zip\n",
            "Resolving s3.us-east-2.amazonaws.com (s3.us-east-2.amazonaws.com)... 52.219.98.1\n",
            "Connecting to s3.us-east-2.amazonaws.com (s3.us-east-2.amazonaws.com)|52.219.98.1|:443... connected.\n",
            "HTTP request sent, awaiting response... 200 OK\n",
            "Length: 1313458 (1.3M) [application/zip]\n",
            "Saving to: ‘fakenews.zip.2’\n",
            "\n",
            "fakenews.zip.2      100%[===================>]   1.25M  5.82MB/s    in 0.2s    \n",
            "\n",
            "2021-09-05 08:40:21 (5.82 MB/s) - ‘fakenews.zip.2’ saved [1313458/1313458]\n",
            "\n"
          ]
        }
      ]
    },
    {
      "cell_type": "code",
      "metadata": {
        "id": "v3gYV7dAu61s",
        "colab": {
          "base_uri": "https://localhost:8080/",
          "height": 204
        },
        "outputId": "35b12682-be6b-495c-f17b-343513cfaa07"
      },
      "source": [
        "data = pd.read_csv(\"./fakenews/fakenews/full.csv\")\n",
        "data.head()"
      ],
      "execution_count": 99,
      "outputs": [
        {
          "output_type": "execute_result",
          "data": {
            "text/html": [
              "<div>\n",
              "<style scoped>\n",
              "    .dataframe tbody tr th:only-of-type {\n",
              "        vertical-align: middle;\n",
              "    }\n",
              "\n",
              "    .dataframe tbody tr th {\n",
              "        vertical-align: top;\n",
              "    }\n",
              "\n",
              "    .dataframe thead th {\n",
              "        text-align: right;\n",
              "    }\n",
              "</style>\n",
              "<table border=\"1\" class=\"dataframe\">\n",
              "  <thead>\n",
              "    <tr style=\"text-align: right;\">\n",
              "      <th></th>\n",
              "      <th>label</th>\n",
              "      <th>article</th>\n",
              "    </tr>\n",
              "  </thead>\n",
              "  <tbody>\n",
              "    <tr>\n",
              "      <th>0</th>\n",
              "      <td>0</td>\n",
              "      <td>Ayon sa TheWrap.com, naghain ng kaso si Krupa,...</td>\n",
              "    </tr>\n",
              "    <tr>\n",
              "      <th>1</th>\n",
              "      <td>0</td>\n",
              "      <td>Kilala rin ang singer sa pagkumpas ng kanyang ...</td>\n",
              "    </tr>\n",
              "    <tr>\n",
              "      <th>2</th>\n",
              "      <td>0</td>\n",
              "      <td>BLANTYRE, Malawi (AP) -- Bumiyahe patungong Ma...</td>\n",
              "    </tr>\n",
              "    <tr>\n",
              "      <th>3</th>\n",
              "      <td>0</td>\n",
              "      <td>Kasama sa programa ang pananalangin, bulaklak ...</td>\n",
              "    </tr>\n",
              "    <tr>\n",
              "      <th>4</th>\n",
              "      <td>0</td>\n",
              "      <td>Linisin ang Friendship Department dahil dadala...</td>\n",
              "    </tr>\n",
              "  </tbody>\n",
              "</table>\n",
              "</div>"
            ],
            "text/plain": [
              "   label                                            article\n",
              "0      0  Ayon sa TheWrap.com, naghain ng kaso si Krupa,...\n",
              "1      0  Kilala rin ang singer sa pagkumpas ng kanyang ...\n",
              "2      0  BLANTYRE, Malawi (AP) -- Bumiyahe patungong Ma...\n",
              "3      0  Kasama sa programa ang pananalangin, bulaklak ...\n",
              "4      0  Linisin ang Friendship Department dahil dadala..."
            ]
          },
          "metadata": {},
          "execution_count": 99
        }
      ]
    },
    {
      "cell_type": "code",
      "metadata": {
        "id": "pdjWPQs1vRHV",
        "colab": {
          "base_uri": "https://localhost:8080/"
        },
        "outputId": "bf7a496b-d027-45cd-fdc8-73c69e36c238"
      },
      "source": [
        "data.info()"
      ],
      "execution_count": 100,
      "outputs": [
        {
          "output_type": "stream",
          "name": "stdout",
          "text": [
            "<class 'pandas.core.frame.DataFrame'>\n",
            "RangeIndex: 3206 entries, 0 to 3205\n",
            "Data columns (total 2 columns):\n",
            " #   Column   Non-Null Count  Dtype \n",
            "---  ------   --------------  ----- \n",
            " 0   label    3206 non-null   int64 \n",
            " 1   article  3206 non-null   object\n",
            "dtypes: int64(1), object(1)\n",
            "memory usage: 50.2+ KB\n"
          ]
        }
      ]
    },
    {
      "cell_type": "code",
      "metadata": {
        "id": "GKFdH_2ixZGa"
      },
      "source": [
        "##store headlines and labels in respective lists\n",
        "news = list(data['article'])\n",
        "labels = list(data['label'])"
      ],
      "execution_count": 101,
      "outputs": []
    },
    {
      "cell_type": "code",
      "metadata": {
        "id": "WaauQ1qUxjxo",
        "colab": {
          "base_uri": "https://localhost:8080/"
        },
        "outputId": "69ca54d0-2b08-49c3-d526-3572d00ec2d4"
      },
      "source": [
        "data.shape"
      ],
      "execution_count": 102,
      "outputs": [
        {
          "output_type": "execute_result",
          "data": {
            "text/plain": [
              "(3206, 2)"
            ]
          },
          "metadata": {},
          "execution_count": 102
        }
      ]
    },
    {
      "cell_type": "code",
      "metadata": {
        "id": "qj2oMcUGxe3B"
      },
      "source": [
        "##define tokenizing and padding parameters\n",
        "vocab_size = 10000\n",
        "max_length = 120\n",
        "embedding_dim = 16\n",
        "trunc_type='post'\n",
        "padding_type='post'\n",
        "oov_tok = \"<OOV>\"\n"
      ],
      "execution_count": 103,
      "outputs": []
    },
    {
      "cell_type": "code",
      "metadata": {
        "id": "EEeoeIWtxquv"
      },
      "source": [
        "# ##sentences\n",
        "# training_sentences = news[0:training_size]\n",
        "# testing_sentences = news[training_size:]\n",
        "\n",
        "# ##labels\n",
        "# training_labels = labels[0:training_size]\n",
        "# testing_labels = labels[training_size:]\n",
        "\n",
        "\n",
        "from sklearn.model_selection import train_test_split\n",
        "training_sentences, testing_sentences, training_labels, testing_labels = train_test_split(news, labels, test_size=0.20, random_state=33)\n"
      ],
      "execution_count": 110,
      "outputs": []
    },
    {
      "cell_type": "code",
      "metadata": {
        "id": "XZz41qumxsn0"
      },
      "source": [
        "tokenizer = Tokenizer(num_words=vocab_size, oov_token=oov_tok)\n",
        "tokenizer.fit_on_texts(training_sentences)\n",
        "\n",
        "word_index = tokenizer.word_index\n",
        "\n",
        "training_sequences = tokenizer.texts_to_sequences(training_sentences)\n",
        "training_padded = pad_sequences(training_sequences, maxlen=max_length, padding=padding_type, truncating=trunc_type)\n",
        "\n",
        "testing_sequences = tokenizer.texts_to_sequences(testing_sentences)\n",
        "testing_padded = pad_sequences(testing_sequences, maxlen=max_length, padding=padding_type, truncating=trunc_type)"
      ],
      "execution_count": 111,
      "outputs": []
    },
    {
      "cell_type": "code",
      "metadata": {
        "id": "Ni18ksrex2h5"
      },
      "source": [
        "# convert lists into numpy arrays to make it work with TensorFlow 2.x\n",
        "training_padded = np.array(training_padded)\n",
        "training_labels = np.array(training_labels)\n",
        "testing_padded = np.array(testing_padded)\n",
        "testing_labels = np.array(testing_labels)"
      ],
      "execution_count": 112,
      "outputs": []
    },
    {
      "cell_type": "code",
      "metadata": {
        "id": "v6RTFJ0tx4Tm",
        "colab": {
          "base_uri": "https://localhost:8080/"
        },
        "outputId": "cb6c4e3a-3832-40bd-c147-176ad258203e"
      },
      "source": [
        "model = tf.keras.Sequential([\n",
        "    tf.keras.layers.Embedding(vocab_size, embedding_dim, input_length=max_length),\n",
        "    tf.keras.layers.GlobalAveragePooling1D(),\n",
        "    tf.keras.layers.Dense(24, activation='relu'),\n",
        "    tf.keras.layers.Dense(1, activation='sigmoid')\n",
        "])\n",
        "\n",
        "##compile the model\n",
        "model.compile(loss='binary_crossentropy',optimizer='adam',metrics=['accuracy'])\n",
        "model.summary()"
      ],
      "execution_count": 113,
      "outputs": [
        {
          "output_type": "stream",
          "name": "stdout",
          "text": [
            "Model: \"sequential_10\"\n",
            "_________________________________________________________________\n",
            "Layer (type)                 Output Shape              Param #   \n",
            "=================================================================\n",
            "embedding_10 (Embedding)     (None, 120, 16)           160000    \n",
            "_________________________________________________________________\n",
            "global_average_pooling1d_10  (None, 16)                0         \n",
            "_________________________________________________________________\n",
            "dense_23 (Dense)             (None, 24)                408       \n",
            "_________________________________________________________________\n",
            "dense_24 (Dense)             (None, 1)                 25        \n",
            "=================================================================\n",
            "Total params: 160,433\n",
            "Trainable params: 160,433\n",
            "Non-trainable params: 0\n",
            "_________________________________________________________________\n"
          ]
        }
      ]
    },
    {
      "cell_type": "code",
      "metadata": {
        "id": "hBlxPZqCx6uq",
        "colab": {
          "base_uri": "https://localhost:8080/"
        },
        "outputId": "501d78f8-22d2-4023-b484-a588c81e2248"
      },
      "source": [
        "num_epochs = 30\n",
        "history = model.fit(training_padded, \n",
        "                    training_labels, \n",
        "                    epochs=num_epochs, \n",
        "                    validation_data=(testing_padded, testing_labels), \n",
        "                    verbose=2)"
      ],
      "execution_count": 114,
      "outputs": [
        {
          "output_type": "stream",
          "name": "stdout",
          "text": [
            "Epoch 1/30\n",
            "81/81 - 1s - loss: 0.6599 - accuracy: 0.7168 - val_loss: 0.6006 - val_accuracy: 0.7788\n",
            "Epoch 2/30\n",
            "81/81 - 0s - loss: 0.5076 - accuracy: 0.7937 - val_loss: 0.4274 - val_accuracy: 0.8583\n",
            "Epoch 3/30\n",
            "81/81 - 0s - loss: 0.3539 - accuracy: 0.8924 - val_loss: 0.3289 - val_accuracy: 0.9003\n",
            "Epoch 4/30\n",
            "81/81 - 0s - loss: 0.2567 - accuracy: 0.9392 - val_loss: 0.2712 - val_accuracy: 0.9112\n",
            "Epoch 5/30\n",
            "81/81 - 0s - loss: 0.1839 - accuracy: 0.9567 - val_loss: 0.2232 - val_accuracy: 0.9159\n",
            "Epoch 6/30\n",
            "81/81 - 0s - loss: 0.1300 - accuracy: 0.9704 - val_loss: 0.2045 - val_accuracy: 0.9159\n",
            "Epoch 7/30\n",
            "81/81 - 0s - loss: 0.0941 - accuracy: 0.9809 - val_loss: 0.1821 - val_accuracy: 0.9237\n",
            "Epoch 8/30\n",
            "81/81 - 0s - loss: 0.0700 - accuracy: 0.9875 - val_loss: 0.1668 - val_accuracy: 0.9299\n",
            "Epoch 9/30\n",
            "81/81 - 0s - loss: 0.0532 - accuracy: 0.9899 - val_loss: 0.1591 - val_accuracy: 0.9361\n",
            "Epoch 10/30\n",
            "81/81 - 0s - loss: 0.0414 - accuracy: 0.9934 - val_loss: 0.1529 - val_accuracy: 0.9377\n",
            "Epoch 11/30\n",
            "81/81 - 0s - loss: 0.0327 - accuracy: 0.9945 - val_loss: 0.1463 - val_accuracy: 0.9424\n",
            "Epoch 12/30\n",
            "81/81 - 0s - loss: 0.0264 - accuracy: 0.9957 - val_loss: 0.1504 - val_accuracy: 0.9408\n",
            "Epoch 13/30\n",
            "81/81 - 0s - loss: 0.0217 - accuracy: 0.9961 - val_loss: 0.1478 - val_accuracy: 0.9408\n",
            "Epoch 14/30\n",
            "81/81 - 0s - loss: 0.0183 - accuracy: 0.9969 - val_loss: 0.1425 - val_accuracy: 0.9533\n",
            "Epoch 15/30\n",
            "81/81 - 0s - loss: 0.0156 - accuracy: 0.9977 - val_loss: 0.1472 - val_accuracy: 0.9439\n",
            "Epoch 16/30\n",
            "81/81 - 0s - loss: 0.0133 - accuracy: 0.9984 - val_loss: 0.1522 - val_accuracy: 0.9393\n",
            "Epoch 17/30\n",
            "81/81 - 0s - loss: 0.0114 - accuracy: 0.9980 - val_loss: 0.1600 - val_accuracy: 0.9346\n",
            "Epoch 18/30\n",
            "81/81 - 0s - loss: 0.0103 - accuracy: 0.9984 - val_loss: 0.1593 - val_accuracy: 0.9346\n",
            "Epoch 19/30\n",
            "81/81 - 0s - loss: 0.0092 - accuracy: 0.9980 - val_loss: 0.1585 - val_accuracy: 0.9377\n",
            "Epoch 20/30\n",
            "81/81 - 0s - loss: 0.0077 - accuracy: 0.9984 - val_loss: 0.1571 - val_accuracy: 0.9424\n",
            "Epoch 21/30\n",
            "81/81 - 0s - loss: 0.0068 - accuracy: 0.9984 - val_loss: 0.1636 - val_accuracy: 0.9393\n",
            "Epoch 22/30\n",
            "81/81 - 0s - loss: 0.0061 - accuracy: 0.9984 - val_loss: 0.1614 - val_accuracy: 0.9408\n",
            "Epoch 23/30\n",
            "81/81 - 0s - loss: 0.0055 - accuracy: 0.9984 - val_loss: 0.1591 - val_accuracy: 0.9424\n",
            "Epoch 24/30\n",
            "81/81 - 0s - loss: 0.0049 - accuracy: 0.9988 - val_loss: 0.1653 - val_accuracy: 0.9408\n",
            "Epoch 25/30\n",
            "81/81 - 0s - loss: 0.0045 - accuracy: 0.9984 - val_loss: 0.1743 - val_accuracy: 0.9424\n",
            "Epoch 26/30\n",
            "81/81 - 0s - loss: 0.0040 - accuracy: 0.9988 - val_loss: 0.1717 - val_accuracy: 0.9424\n",
            "Epoch 27/30\n",
            "81/81 - 0s - loss: 0.0035 - accuracy: 1.0000 - val_loss: 0.1816 - val_accuracy: 0.9408\n",
            "Epoch 28/30\n",
            "81/81 - 0s - loss: 0.0032 - accuracy: 0.9988 - val_loss: 0.1732 - val_accuracy: 0.9408\n",
            "Epoch 29/30\n",
            "81/81 - 0s - loss: 0.0028 - accuracy: 1.0000 - val_loss: 0.1843 - val_accuracy: 0.9408\n",
            "Epoch 30/30\n",
            "81/81 - 0s - loss: 0.0026 - accuracy: 1.0000 - val_loss: 0.1865 - val_accuracy: 0.9408\n"
          ]
        }
      ]
    },
    {
      "cell_type": "code",
      "metadata": {
        "id": "75tLuwuqx-Zf",
        "colab": {
          "base_uri": "https://localhost:8080/",
          "height": 541
        },
        "outputId": "09209e16-027a-4234-bcec-80cb751715a4"
      },
      "source": [
        "import matplotlib.pyplot as plt\n",
        "\n",
        "##plot the scores from history\n",
        "def plot_graphs(history, string):\n",
        "  plt.plot(history.history[string])\n",
        "  plt.plot(history.history['val_'+string])\n",
        "  plt.legend([string, 'val_'+string])\n",
        "  plt.xlabel(\"Epochs\")\n",
        "  plt.ylabel(string)\n",
        "  plt.show()\n",
        "  \n",
        "plot_graphs(history, \"accuracy\")\n",
        "plot_graphs(history, \"loss\")"
      ],
      "execution_count": 115,
      "outputs": [
        {
          "output_type": "display_data",
          "data": {
            "image/png": "[encoded data removed]",
            "text/plain": [
              "<Figure size 432x288 with 1 Axes>"
            ]
          },
          "metadata": {
            "needs_background": "light"
          }
        },
        {
          "output_type": "display_data",
          "data": {
            "image/png": "[encoded data removed]",
            "text/plain": [
              "<Figure size 432x288 with 1 Axes>"
            ]
          },
          "metadata": {
            "needs_background": "light"
          }
        }
      ]
    },
    {
      "cell_type": "code",
      "metadata": {
        "id": "XkYQZT4yyESy",
        "colab": {
          "base_uri": "https://localhost:8080/"
        },
        "outputId": "e937a89f-89fb-429a-a959-813d68e8143b"
      },
      "source": [
        " xtsentence = [\"Duterte, pinakamagaling na presidente. ayon sa ulat ni mocha uson\", \n",
        "            \"Pilipinas, inuulan ng bagyo\", \n",
        "            \"Nilindol ang Batangas\", \n",
        "            \"Talagang hindi natatakot si President Duterte sa mga Threats na kanyang natatanggap dahil malakas ang paniniwala niya sa ating Poong may Kapal. Kaya mahal na mahal namin kayo President\",\n",
        "            \"Napaka fake news niyo ABS CBN .... galing niyo mag edit, tingnan niyo tunay na post ni MOCHA USON BLOG nandun yung tunay na post video hindi photo... nimal abs cbn madami na kayong naloloko na mga tangang tao\",\n",
        "            \"Sobra Sobrang kahihiyan ang mga ginagawa ng mga PARI ngayon! Dapat sa mga PARING Rapist Maniac at Malilibog ay putulan ng TARUGO!\",\n",
        "            \"Aquino nagalit dahil papalitan ang NAIA ng ‘Manila International Airport?\",\n",
        "            \"Kinumpirma mismo ni Leni Robredo na siya ang Spotted sa Boston, 'Namumulot ng Basura'!\"\n",
        "            ]\n",
        "\n",
        "##prepare the sequences of the sentences in question\n",
        "sequences = tokenizer.texts_to_sequences(sentence)\n",
        "padded_seqs = pad_sequences(sequences, maxlen=max_length, padding=padding_type, truncating=trunc_type)\n",
        "\n",
        "print(model.predict(padded_seqs))"
      ],
      "execution_count": 116,
      "outputs": [
        {
          "output_type": "stream",
          "name": "stdout",
          "text": [
            "[[0.25948513]\n",
            " [0.0158976 ]\n",
            " [0.00744143]\n",
            " [0.10111877]\n",
            " [0.99829304]\n",
            " [0.01261765]\n",
            " [0.06266156]]\n"
          ]
        }
      ]
    },
    {
      "cell_type": "code",
      "metadata": {
        "id": "CbC2eKk0yTPj",
        "colab": {
          "base_uri": "https://localhost:8080/"
        },
        "outputId": "b5b84b34-62f2-493d-e0bc-01ee81dd1cb8"
      },
      "source": [
        "data[data['label']==1]['article']"
      ],
      "execution_count": 117,
      "outputs": [
        {
          "output_type": "execute_result",
          "data": {
            "text/plain": [
              "1603    Isiniwalat ng isang tribal leader ang kabalbal...\n",
              "1604    Kilala ang Univeristy of the Philippines (UP) ...\n",
              "1605    Ayon kay Tourism Secretary Bernadette Romulo-P...\n",
              "1606    Sa opisyal na pagpapakilala ng mga taga-oposis...\n",
              "1607    Hindi pinalampas ni dating Presidential Commun...\n",
              "                              ...                        \n",
              "3201    Hindi pa nai-enjoy ni Giacomo Filibeck ang Pil...\n",
              "3202    Sa isang pahayag, binatikos ng Liberal Party (...\n",
              "3203    Panoorin nyo yung reaction video na ito ni Mr....\n",
              "3204    Para sa mga magkakapatid na laging nagtatalo l...\n",
              "3205    Grabe ibang klase talaga si Vice Ganda kung ma...\n",
              "Name: article, Length: 1603, dtype: object"
            ]
          },
          "metadata": {},
          "execution_count": 117
        }
      ]
    },
    {
      "cell_type": "code",
      "metadata": {
        "id": "kr0R5J1C5dkj"
      },
      "source": [
        ""
      ],
      "execution_count": 117,
      "outputs": []
    }
  ]
}