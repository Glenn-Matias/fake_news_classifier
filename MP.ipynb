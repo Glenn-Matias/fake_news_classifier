{
  "nbformat": 4,
  "nbformat_minor": 0,
  "metadata": {
    "colab": {
      "name": "MP.ipynb",
      "provenance": [],
      "collapsed_sections": [],
      "include_colab_link": true
    },
    "kernelspec": {
      "name": "python3",
      "display_name": "Python 3"
    },
    "language_info": {
      "name": "python"
    },
    "accelerator": "GPU"
  },
  "cells": [
    {
      "cell_type": "markdown",
      "metadata": {
        "id": "view-in-github",
        "colab_type": "text"
      },
      "source": [
        "<a href=\"https://colab.research.google.com/github/Glenn-Matias/fake_news_classifier/blob/main/MP.ipynb\" target=\"_parent\"><img src=\"https://colab.research.google.com/assets/colab-badge.svg\" alt=\"Open In Colab\"/></a>"
      ]
    },
    {
      "cell_type": "code",
      "metadata": {
        "id": "Un5g3c-XrBc9",
        "colab": {
          "base_uri": "https://localhost:8080/"
        },
        "outputId": "2fcc86be-a30d-41ff-a690-5ad0f1a8acf5"
      },
      "source": [
        "##import the required libraries and APIs\n",
        "import numpy as np\n",
        "import tensorflow as tf\n",
        "from tensorflow.keras.preprocessing.text import Tokenizer\n",
        "from tensorflow.keras.preprocessing.sequence import pad_sequences\n",
        "import pandas as pd\n",
        "print(tf.__version__)\n",
        "!pip3 install advertools\n",
        "import advertools as adv\n",
        "from collections import Counter\n",
        "import string\n"
      ],
      "execution_count": null,
      "outputs": [
        {
          "output_type": "stream",
          "name": "stdout",
          "text": [
            "2.6.0\n",
            "Collecting advertools\n",
            "  Downloading advertools-0.11.1-py2.py3-none-any.whl (275 kB)\n",
            "\u001b[K     |████████████████████████████████| 275 kB 4.0 MB/s \n",
            "\u001b[?25hRequirement already satisfied: pandas in /usr/local/lib/python3.7/dist-packages (from advertools) (1.1.5)\n",
            "Collecting twython\n",
            "  Downloading twython-3.9.1-py3-none-any.whl (33 kB)\n",
            "Collecting scrapy\n",
            "  Downloading Scrapy-2.5.0-py2.py3-none-any.whl (254 kB)\n",
            "\u001b[K     |████████████████████████████████| 254 kB 41.6 MB/s \n",
            "\u001b[?25hRequirement already satisfied: pyasn1 in /usr/local/lib/python3.7/dist-packages (from advertools) (0.4.8)\n",
            "Requirement already satisfied: numpy>=1.15.4 in /usr/local/lib/python3.7/dist-packages (from pandas->advertools) (1.19.5)\n",
            "Requirement already satisfied: pytz>=2017.2 in /usr/local/lib/python3.7/dist-packages (from pandas->advertools) (2018.9)\n",
            "Requirement already satisfied: python-dateutil>=2.7.3 in /usr/local/lib/python3.7/dist-packages (from pandas->advertools) (2.8.2)\n",
            "Requirement already satisfied: six>=1.5 in /usr/local/lib/python3.7/dist-packages (from python-dateutil>=2.7.3->pandas->advertools) (1.15.0)\n",
            "Collecting queuelib>=1.4.2\n",
            "  Downloading queuelib-1.6.2-py2.py3-none-any.whl (13 kB)\n",
            "Requirement already satisfied: lxml>=3.5.0 in /usr/local/lib/python3.7/dist-packages (from scrapy->advertools) (4.2.6)\n",
            "Collecting cssselect>=0.9.1\n",
            "  Downloading cssselect-1.1.0-py2.py3-none-any.whl (16 kB)\n",
            "Collecting parsel>=1.5.0\n",
            "  Downloading parsel-1.6.0-py2.py3-none-any.whl (13 kB)\n",
            "Collecting h2<4.0,>=3.0\n",
            "  Downloading h2-3.2.0-py2.py3-none-any.whl (65 kB)\n",
            "\u001b[K     |████████████████████████████████| 65 kB 3.3 MB/s \n",
            "\u001b[?25hCollecting protego>=0.1.15\n",
            "  Downloading Protego-0.1.16.tar.gz (3.2 MB)\n",
            "\u001b[K     |████████████████████████████████| 3.2 MB 28.8 MB/s \n",
            "\u001b[?25hCollecting itemloaders>=1.0.1\n",
            "  Downloading itemloaders-1.0.4-py3-none-any.whl (11 kB)\n",
            "Collecting PyDispatcher>=2.0.5\n",
            "  Downloading PyDispatcher-2.0.5.zip (47 kB)\n",
            "\u001b[K     |████████████████████████████████| 47 kB 4.7 MB/s \n",
            "\u001b[?25hCollecting w3lib>=1.17.0\n",
            "  Downloading w3lib-1.22.0-py2.py3-none-any.whl (20 kB)\n",
            "Collecting pyOpenSSL>=16.2.0\n",
            "  Downloading pyOpenSSL-20.0.1-py2.py3-none-any.whl (54 kB)\n",
            "\u001b[K     |████████████████████████████████| 54 kB 2.5 MB/s \n",
            "\u001b[?25hCollecting service-identity>=16.0.0\n",
            "  Downloading service_identity-21.1.0-py2.py3-none-any.whl (12 kB)\n",
            "Collecting Twisted[http2]>=17.9.0\n",
            "  Downloading Twisted-21.7.0-py3-none-any.whl (3.1 MB)\n",
            "\u001b[K     |████████████████████████████████| 3.1 MB 34.1 MB/s \n",
            "\u001b[?25hCollecting cryptography>=2.0\n",
            "  Downloading cryptography-3.4.8-cp36-abi3-manylinux_2_24_x86_64.whl (3.0 MB)\n",
            "\u001b[K     |████████████████████████████████| 3.0 MB 49.3 MB/s \n",
            "\u001b[?25hCollecting itemadapter>=0.1.0\n",
            "  Downloading itemadapter-0.4.0-py3-none-any.whl (10 kB)\n",
            "Collecting zope.interface>=4.1.3\n",
            "  Downloading zope.interface-5.4.0-cp37-cp37m-manylinux2010_x86_64.whl (251 kB)\n",
            "\u001b[K     |████████████████████████████████| 251 kB 46.7 MB/s \n",
            "\u001b[?25hRequirement already satisfied: cffi>=1.12 in /usr/local/lib/python3.7/dist-packages (from cryptography>=2.0->scrapy->advertools) (1.14.6)\n",
            "Requirement already satisfied: pycparser in /usr/local/lib/python3.7/dist-packages (from cffi>=1.12->cryptography>=2.0->scrapy->advertools) (2.20)\n",
            "Collecting hpack<4,>=3.0\n",
            "  Downloading hpack-3.0.0-py2.py3-none-any.whl (38 kB)\n",
            "Collecting hyperframe<6,>=5.2.0\n",
            "  Downloading hyperframe-5.2.0-py2.py3-none-any.whl (12 kB)\n",
            "Collecting jmespath>=0.9.5\n",
            "  Downloading jmespath-0.10.0-py2.py3-none-any.whl (24 kB)\n",
            "Requirement already satisfied: attrs>=19.1.0 in /usr/local/lib/python3.7/dist-packages (from service-identity>=16.0.0->scrapy->advertools) (21.2.0)\n",
            "Requirement already satisfied: pyasn1-modules in /usr/local/lib/python3.7/dist-packages (from service-identity>=16.0.0->scrapy->advertools) (0.2.8)\n",
            "Collecting hyperlink>=17.1.1\n",
            "  Downloading hyperlink-21.0.0-py2.py3-none-any.whl (74 kB)\n",
            "\u001b[K     |████████████████████████████████| 74 kB 3.4 MB/s \n",
            "\u001b[?25hRequirement already satisfied: typing-extensions>=3.6.5 in /usr/local/lib/python3.7/dist-packages (from Twisted[http2]>=17.9.0->scrapy->advertools) (3.7.4.3)\n",
            "Collecting constantly>=15.1\n",
            "  Downloading constantly-15.1.0-py2.py3-none-any.whl (7.9 kB)\n",
            "Collecting incremental>=21.3.0\n",
            "  Downloading incremental-21.3.0-py2.py3-none-any.whl (15 kB)\n",
            "Collecting Automat>=0.8.0\n",
            "  Downloading Automat-20.2.0-py2.py3-none-any.whl (31 kB)\n",
            "Collecting priority<2.0,>=1.1.0\n",
            "  Downloading priority-1.3.0-py2.py3-none-any.whl (11 kB)\n",
            "Requirement already satisfied: idna>=2.5 in /usr/local/lib/python3.7/dist-packages (from hyperlink>=17.1.1->Twisted[http2]>=17.9.0->scrapy->advertools) (2.10)\n",
            "Requirement already satisfied: setuptools in /usr/local/lib/python3.7/dist-packages (from zope.interface>=4.1.3->scrapy->advertools) (57.4.0)\n",
            "Requirement already satisfied: requests-oauthlib>=0.4.0 in /usr/local/lib/python3.7/dist-packages (from twython->advertools) (1.3.0)\n",
            "Requirement already satisfied: requests>=2.1.0 in /usr/local/lib/python3.7/dist-packages (from twython->advertools) (2.23.0)\n",
            "Requirement already satisfied: certifi>=2017.4.17 in /usr/local/lib/python3.7/dist-packages (from requests>=2.1.0->twython->advertools) (2021.5.30)\n",
            "Requirement already satisfied: chardet<4,>=3.0.2 in /usr/local/lib/python3.7/dist-packages (from requests>=2.1.0->twython->advertools) (3.0.4)\n",
            "Requirement already satisfied: urllib3!=1.25.0,!=1.25.1,<1.26,>=1.21.1 in /usr/local/lib/python3.7/dist-packages (from requests>=2.1.0->twython->advertools) (1.24.3)\n",
            "Requirement already satisfied: oauthlib>=3.0.0 in /usr/local/lib/python3.7/dist-packages (from requests-oauthlib>=0.4.0->twython->advertools) (3.1.1)\n",
            "Building wheels for collected packages: protego, PyDispatcher\n",
            "  Building wheel for protego (setup.py) ... \u001b[?25l\u001b[?25hdone\n",
            "  Created wheel for protego: filename=Protego-0.1.16-py3-none-any.whl size=7782 sha256=94d310cffcfc8aaf7d2643c8cfd9e36e129847480c7a3c38aa94e1b51d40b0a5\n",
            "  Stored in directory: /root/.cache/pip/wheels/ca/44/01/3592ccfbcfaee4ab297c4097e6e9dbe1c7697e3531a39877ab\n",
            "  Building wheel for PyDispatcher (setup.py) ... \u001b[?25l\u001b[?25hdone\n",
            "  Created wheel for PyDispatcher: filename=PyDispatcher-2.0.5-py3-none-any.whl size=11515 sha256=bd42d2b3130a288f482c618ba1876daad40272ababde00a9a7a7bc995575ab0b\n",
            "  Stored in directory: /root/.cache/pip/wheels/2d/18/21/3c6a732eaa69a339198e08bb63b7da2c45933a3428b29ec454\n",
            "Successfully built protego PyDispatcher\n",
            "Installing collected packages: zope.interface, w3lib, incremental, hyperlink, hyperframe, hpack, cssselect, constantly, Automat, Twisted, priority, parsel, jmespath, itemadapter, h2, cryptography, service-identity, queuelib, pyOpenSSL, PyDispatcher, protego, itemloaders, twython, scrapy, advertools\n",
            "Successfully installed Automat-20.2.0 PyDispatcher-2.0.5 Twisted-21.7.0 advertools-0.11.1 constantly-15.1.0 cryptography-3.4.8 cssselect-1.1.0 h2-3.2.0 hpack-3.0.0 hyperframe-5.2.0 hyperlink-21.0.0 incremental-21.3.0 itemadapter-0.4.0 itemloaders-1.0.4 jmespath-0.10.0 parsel-1.6.0 priority-1.3.0 protego-0.1.16 pyOpenSSL-20.0.1 queuelib-1.6.2 scrapy-2.5.0 service-identity-21.1.0 twython-3.9.1 w3lib-1.22.0 zope.interface-5.4.0\n"
          ]
        }
      ]
    },
    {
      "cell_type": "code",
      "metadata": {
        "id": "HoSwd0oYup88",
        "colab": {
          "base_uri": "https://localhost:8080/"
        },
        "outputId": "7cdbf877-68a6-43d1-99b1-8a5200cd12c4"
      },
      "source": [
        "!wget --no-check-certificate \\\n",
        "    https://s3.us-east-2.amazonaws.com/blaisecruz.com/datasets/fakenews/fakenews.zip\n",
        "!unzip \"/content/fakenews.zip\" -d \"/content/fakenews\""
      ],
      "execution_count": null,
      "outputs": [
        {
          "output_type": "stream",
          "name": "stdout",
          "text": [
            "--2021-09-21 02:28:03--  https://s3.us-east-2.amazonaws.com/blaisecruz.com/datasets/fakenews/fakenews.zip\n",
            "Resolving s3.us-east-2.amazonaws.com (s3.us-east-2.amazonaws.com)... 52.219.84.98\n",
            "Connecting to s3.us-east-2.amazonaws.com (s3.us-east-2.amazonaws.com)|52.219.84.98|:443... connected.\n",
            "HTTP request sent, awaiting response... 200 OK\n",
            "Length: 1313458 (1.3M) [application/zip]\n",
            "Saving to: ‘fakenews.zip’\n",
            "\n",
            "fakenews.zip        100%[===================>]   1.25M  1.13MB/s    in 1.1s    \n",
            "\n",
            "2021-09-21 02:28:05 (1.13 MB/s) - ‘fakenews.zip’ saved [1313458/1313458]\n",
            "\n",
            "Archive:  /content/fakenews.zip\n",
            "   creating: /content/fakenews/fakenews/\n",
            "  inflating: /content/fakenews/fakenews/full.csv  \n"
          ]
        }
      ]
    },
    {
      "cell_type": "markdown",
      "metadata": {
        "id": "NsUXfU0kQWe7"
      },
      "source": [
        ""
      ]
    },
    {
      "cell_type": "code",
      "metadata": {
        "id": "v3gYV7dAu61s",
        "colab": {
          "base_uri": "https://localhost:8080/",
          "height": 349
        },
        "outputId": "886792cb-d121-4438-cc9a-2f30f0a8b860"
      },
      "source": [
        "data = pd.read_csv(\"./fakenews/fakenews/full.csv\")\n",
        "data.info()\n",
        "data.head()"
      ],
      "execution_count": null,
      "outputs": [
        {
          "output_type": "stream",
          "name": "stdout",
          "text": [
            "<class 'pandas.core.frame.DataFrame'>\n",
            "RangeIndex: 3206 entries, 0 to 3205\n",
            "Data columns (total 2 columns):\n",
            " #   Column   Non-Null Count  Dtype \n",
            "---  ------   --------------  ----- \n",
            " 0   label    3206 non-null   int64 \n",
            " 1   article  3206 non-null   object\n",
            "dtypes: int64(1), object(1)\n",
            "memory usage: 50.2+ KB\n"
          ]
        },
        {
          "output_type": "execute_result",
          "data": {
            "text/html": [
              "<div>\n",
              "<style scoped>\n",
              "    .dataframe tbody tr th:only-of-type {\n",
              "        vertical-align: middle;\n",
              "    }\n",
              "\n",
              "    .dataframe tbody tr th {\n",
              "        vertical-align: top;\n",
              "    }\n",
              "\n",
              "    .dataframe thead th {\n",
              "        text-align: right;\n",
              "    }\n",
              "</style>\n",
              "<table border=\"1\" class=\"dataframe\">\n",
              "  <thead>\n",
              "    <tr style=\"text-align: right;\">\n",
              "      <th></th>\n",
              "      <th>label</th>\n",
              "      <th>article</th>\n",
              "    </tr>\n",
              "  </thead>\n",
              "  <tbody>\n",
              "    <tr>\n",
              "      <th>0</th>\n",
              "      <td>0</td>\n",
              "      <td>Ayon sa TheWrap.com, naghain ng kaso si Krupa,...</td>\n",
              "    </tr>\n",
              "    <tr>\n",
              "      <th>1</th>\n",
              "      <td>0</td>\n",
              "      <td>Kilala rin ang singer sa pagkumpas ng kanyang ...</td>\n",
              "    </tr>\n",
              "    <tr>\n",
              "      <th>2</th>\n",
              "      <td>0</td>\n",
              "      <td>BLANTYRE, Malawi (AP) -- Bumiyahe patungong Ma...</td>\n",
              "    </tr>\n",
              "    <tr>\n",
              "      <th>3</th>\n",
              "      <td>0</td>\n",
              "      <td>Kasama sa programa ang pananalangin, bulaklak ...</td>\n",
              "    </tr>\n",
              "    <tr>\n",
              "      <th>4</th>\n",
              "      <td>0</td>\n",
              "      <td>Linisin ang Friendship Department dahil dadala...</td>\n",
              "    </tr>\n",
              "  </tbody>\n",
              "</table>\n",
              "</div>"
            ],
            "text/plain": [
              "   label                                            article\n",
              "0      0  Ayon sa TheWrap.com, naghain ng kaso si Krupa,...\n",
              "1      0  Kilala rin ang singer sa pagkumpas ng kanyang ...\n",
              "2      0  BLANTYRE, Malawi (AP) -- Bumiyahe patungong Ma...\n",
              "3      0  Kasama sa programa ang pananalangin, bulaklak ...\n",
              "4      0  Linisin ang Friendship Department dahil dadala..."
            ]
          },
          "metadata": {},
          "execution_count": 3
        }
      ]
    },
    {
      "cell_type": "code",
      "metadata": {
        "id": "zjJsvPIxPckr",
        "colab": {
          "base_uri": "https://localhost:8080/",
          "height": 217
        },
        "outputId": "cb17567a-4e33-4160-c728-20fc8a6c552f"
      },
      "source": [
        "# Get counts for the raw text\n",
        "data['total_words_raw'] = [len(x.split()) for x in data['article'].tolist()]\n",
        "\n",
        "max_length = data['total_words_raw'].max()\n",
        "print(max_length)\n",
        "\n",
        "\n",
        "# Change case to lowercase\n",
        "data['article'] = data['article'].str.lower()\n",
        "\n",
        "# Remove the tagalog stop words\n",
        "data['article_treated'] = data['article'].apply(lambda x: ' '.join([word for word in x.split() if word not in (adv.stopwords['tagalog'])]))\n",
        "\n",
        "# Remove symbols and punctuations \n",
        "# data['article_treated'] = data['article_treated'].apply(lambda x: ' '.join([word for word in x.split() if word not in string.punctuation]))\n",
        "\n",
        "\n",
        "# remove special characters !\"#$%&\\'()*+,-./:;<=>?@[\\\\]^_`{|}~\n",
        "def remove_special_characters(input_string):\n",
        "    for punctuation in string.punctuation:\n",
        "        input_string = input_string.replace(punctuation, '')\n",
        "    return input_string\n",
        "\n",
        "data['article_treated'] = data['article_treated'].apply(remove_special_characters)\n",
        "\n",
        "\n",
        "\n",
        "# Get counts for the treated text\n",
        "data['total_words_treated'] = [len(x.split()) for x in data['article_treated'].tolist()]\n",
        "\n",
        "\n",
        "data.head()"
      ],
      "execution_count": null,
      "outputs": [
        {
          "output_type": "stream",
          "name": "stdout",
          "text": [
            "1074\n"
          ]
        },
        {
          "output_type": "execute_result",
          "data": {
            "text/html": [
              "<div>\n",
              "<style scoped>\n",
              "    .dataframe tbody tr th:only-of-type {\n",
              "        vertical-align: middle;\n",
              "    }\n",
              "\n",
              "    .dataframe tbody tr th {\n",
              "        vertical-align: top;\n",
              "    }\n",
              "\n",
              "    .dataframe thead th {\n",
              "        text-align: right;\n",
              "    }\n",
              "</style>\n",
              "<table border=\"1\" class=\"dataframe\">\n",
              "  <thead>\n",
              "    <tr style=\"text-align: right;\">\n",
              "      <th></th>\n",
              "      <th>label</th>\n",
              "      <th>article</th>\n",
              "      <th>total_words_raw</th>\n",
              "      <th>article_treated</th>\n",
              "      <th>total_words_treated</th>\n",
              "    </tr>\n",
              "  </thead>\n",
              "  <tbody>\n",
              "    <tr>\n",
              "      <th>0</th>\n",
              "      <td>0</td>\n",
              "      <td>ayon sa thewrap.com, naghain ng kaso si krupa,...</td>\n",
              "      <td>257</td>\n",
              "      <td>ayon thewrapcom naghain kaso si krupa 35 noong...</td>\n",
              "      <td>193</td>\n",
              "    </tr>\n",
              "    <tr>\n",
              "      <th>1</th>\n",
              "      <td>0</td>\n",
              "      <td>kilala rin ang singer sa pagkumpas ng kanyang ...</td>\n",
              "      <td>153</td>\n",
              "      <td>kilala rin singer pagkumpas kamay tuwing nagta...</td>\n",
              "      <td>115</td>\n",
              "    </tr>\n",
              "    <tr>\n",
              "      <th>2</th>\n",
              "      <td>0</td>\n",
              "      <td>blantyre, malawi (ap) -- bumiyahe patungong ma...</td>\n",
              "      <td>52</td>\n",
              "      <td>blantyre malawi ap  bumiyahe patungong malawi ...</td>\n",
              "      <td>40</td>\n",
              "    </tr>\n",
              "    <tr>\n",
              "      <th>3</th>\n",
              "      <td>0</td>\n",
              "      <td>kasama sa programa ang pananalangin, bulaklak ...</td>\n",
              "      <td>65</td>\n",
              "      <td>kasama programa pananalangin bulaklak pagsindi...</td>\n",
              "      <td>42</td>\n",
              "    </tr>\n",
              "    <tr>\n",
              "      <th>4</th>\n",
              "      <td>0</td>\n",
              "      <td>linisin ang friendship department dahil dadala...</td>\n",
              "      <td>26</td>\n",
              "      <td>linisin friendship department dadalawin angel ...</td>\n",
              "      <td>19</td>\n",
              "    </tr>\n",
              "  </tbody>\n",
              "</table>\n",
              "</div>"
            ],
            "text/plain": [
              "   label  ... total_words_treated\n",
              "0      0  ...                 193\n",
              "1      0  ...                 115\n",
              "2      0  ...                  40\n",
              "3      0  ...                  42\n",
              "4      0  ...                  19\n",
              "\n",
              "[5 rows x 5 columns]"
            ]
          },
          "metadata": {},
          "execution_count": 4
        }
      ]
    },
    {
      "cell_type": "code",
      "metadata": {
        "colab": {
          "base_uri": "https://localhost:8080/"
        },
        "id": "rCnLvwUgKotV",
        "outputId": "c8daa224-aa16-4dc2-da54-4e9dfb7dba26"
      },
      "source": [
        "print(f\"Avg words raw: {data.total_words_raw.sum()/data.shape[0]} \")\n",
        "print(f\"Avg words treated: {data.total_words_treated.sum()/data.shape[0]}\")"
      ],
      "execution_count": null,
      "outputs": [
        {
          "output_type": "stream",
          "name": "stdout",
          "text": [
            "Avg words raw: 182.72645040548971 \n",
            "Avg words treated: 121.0068621334997\n"
          ]
        }
      ]
    },
    {
      "cell_type": "code",
      "metadata": {
        "id": "GKFdH_2ixZGa"
      },
      "source": [
        "##store headlines and labels in respective lists\n",
        "news = list(data['article_treated'])\n",
        "labels = list(data['label'])"
      ],
      "execution_count": null,
      "outputs": []
    },
    {
      "cell_type": "code",
      "metadata": {
        "id": "EEeoeIWtxquv"
      },
      "source": [
        "from sklearn.model_selection import train_test_split\n",
        "training_sentences, testing_sentences, training_labels, testing_labels = train_test_split(news, labels, test_size=0.20, random_state=33)"
      ],
      "execution_count": null,
      "outputs": []
    },
    {
      "cell_type": "code",
      "metadata": {
        "colab": {
          "base_uri": "https://localhost:8080/"
        },
        "id": "-TLaaqahPEQc",
        "outputId": "fd6ce80d-6e57-4281-924a-81aa9b5cdc29"
      },
      "source": [
        "print(f\"Training set # of rows: {len(training_sentences)}\")\n",
        "print(f\"Testing set # of rows: {len(testing_sentences)}\")"
      ],
      "execution_count": null,
      "outputs": [
        {
          "output_type": "stream",
          "name": "stdout",
          "text": [
            "Training set # of rows: 2564\n",
            "Testing set # of rows: 642\n"
          ]
        }
      ]
    },
    {
      "cell_type": "code",
      "metadata": {
        "colab": {
          "base_uri": "https://localhost:8080/"
        },
        "id": "I3t7zZtgOIFK",
        "outputId": "55812dde-bfce-462f-c5da-fb1a6698b237"
      },
      "source": [
        "training_set_tokenizer = Tokenizer()\n",
        "training_set_tokenizer.fit_on_texts(training_sentences)\n",
        "training_vocab_size = len(training_set_tokenizer.word_index) + 1\n",
        "print(f\"Training Set vocabulary size: {training_vocab_size}\")"
      ],
      "execution_count": null,
      "outputs": [
        {
          "output_type": "stream",
          "name": "stdout",
          "text": [
            "Training Set vocabulary size: 37914\n"
          ]
        }
      ]
    },
    {
      "cell_type": "code",
      "metadata": {
        "colab": {
          "base_uri": "https://localhost:8080/"
        },
        "id": "zAeVpvD1Oon9",
        "outputId": "49a80f1a-c73c-4aae-ab56-f74ece69fd2b"
      },
      "source": [
        "testing_set_tokenizer = Tokenizer()\n",
        "testing_set_tokenizer.fit_on_texts(testing_sentences)\n",
        "testing_vocab_size = len(testing_set_tokenizer.word_index) + 1\n",
        "print(f\"Testing Set vocabulary size: {testing_vocab_size}\")"
      ],
      "execution_count": null,
      "outputs": [
        {
          "output_type": "stream",
          "name": "stdout",
          "text": [
            "Testing Set vocabulary size: 17566\n"
          ]
        }
      ]
    },
    {
      "cell_type": "code",
      "metadata": {
        "id": "qj2oMcUGxe3B",
        "colab": {
          "base_uri": "https://localhost:8080/"
        },
        "outputId": "83117bbd-663b-47d8-ca52-19e1f35a5293"
      },
      "source": [
        "##define tokenizing and padding parameters\n",
        "# vocab_size = 10000 # should be the number of distinct words in the dataset\n",
        "# max_length = 120 # should be the max length all the training set\n",
        "\n",
        "\n",
        "max_length = data['total_words_treated'].max()\n",
        "print(f\"Max number of words in a text: {max_length}\")\n",
        "\n",
        "\n",
        "trunc_type='post' # drops the excess sequences at the end of the sequence\n",
        "padding_type='post' # add zeroesto the end part of the sequence\n",
        "oov_tok = \"<OOV>\"\n"
      ],
      "execution_count": null,
      "outputs": [
        {
          "output_type": "stream",
          "name": "stdout",
          "text": [
            "Max number of words in a text: 685\n"
          ]
        }
      ]
    },
    {
      "cell_type": "code",
      "metadata": {
        "id": "XZz41qumxsn0",
        "colab": {
          "base_uri": "https://localhost:8080/"
        },
        "outputId": "bf86762d-5fc2-4a76-a148-0afea87989fa"
      },
      "source": [
        "tokenizer = Tokenizer(num_words=max_length, oov_token=oov_tok)\n",
        "tokenizer.fit_on_texts(training_sentences)\n",
        "\n",
        "word_index = tokenizer.word_index\n",
        "\n",
        "import random\n",
        "print(\"Sample tokenized words\")\n",
        "print(dict(random.sample(word_index.items(), 10))) \n",
        "\n",
        "training_sequences = tokenizer.texts_to_sequences(training_sentences)\n",
        "training_padded = pad_sequences(training_sequences, maxlen=max_length, padding=padding_type, truncating=trunc_type)\n",
        "\n",
        "testing_sequences = tokenizer.texts_to_sequences(testing_sentences)\n",
        "testing_padded = pad_sequences(testing_sequences, maxlen=max_length, padding=padding_type, truncating=trunc_type)"
      ],
      "execution_count": null,
      "outputs": [
        {
          "output_type": "stream",
          "name": "stdout",
          "text": [
            "Sample tokenized words\n",
            "{'makakalaban': 31236, 'sinisipa': 27032, 'maabutan': 37853, 'stamp': 5323, '18580': 18221, 'highschhol': 31598, 'asan': 6640, 'zayn': 29787, 'kalawaan': 29740, 'nalampaso': 20100}\n"
          ]
        }
      ]
    },
    {
      "cell_type": "code",
      "metadata": {
        "id": "Ni18ksrex2h5"
      },
      "source": [
        "training_padded = np.array(training_padded)\n",
        "training_labels = np.array(training_labels)\n",
        "testing_padded = np.array(testing_padded)\n",
        "testing_labels = np.array(testing_labels)"
      ],
      "execution_count": null,
      "outputs": []
    },
    {
      "cell_type": "code",
      "metadata": {
        "id": "v6RTFJ0tx4Tm",
        "colab": {
          "base_uri": "https://localhost:8080/"
        },
        "outputId": "71d0198b-39d3-41aa-ad08-da78b62959d3"
      },
      "source": [
        "tf.random.set_seed(69)\n",
        "embedding_dim = 300\n",
        "\n",
        "\n",
        "model = tf.keras.Sequential([\n",
        "    tf.keras.layers.Embedding(training_vocab_size, embedding_dim, input_length=max_length),\n",
        "\n",
        "    tf.keras.layers.Bidirectional(tf.keras.layers.LSTM(512, return_sequences=True)),\n",
        "    tf.keras.layers.Bidirectional(tf.keras.layers.LSTM(256)),\n",
        "    tf.keras.layers.Dense(24, activation='relu'),\n",
        "    tf.keras.layers.Dense(1, activation='sigmoid')\n",
        "])\n",
        "\n",
        "\n",
        "opt = tf.keras.optimizers.Adam(learning_rate=0.0001)\n",
        "\n",
        "##compile the model\n",
        "model.compile(loss='binary_crossentropy',optimizer=opt,metrics=['accuracy'])\n",
        "model.summary()\n",
        "checkpoint_path = \"training/cp.ckpt\"\n"
      ],
      "execution_count": null,
      "outputs": [
        {
          "output_type": "stream",
          "name": "stdout",
          "text": [
            "Model: \"sequential_2\"\n",
            "_________________________________________________________________\n",
            "Layer (type)                 Output Shape              Param #   \n",
            "=================================================================\n",
            "embedding_2 (Embedding)      (None, 685, 300)          11374200  \n",
            "_________________________________________________________________\n",
            "bidirectional_4 (Bidirection (None, 685, 1024)         3330048   \n",
            "_________________________________________________________________\n",
            "bidirectional_5 (Bidirection (None, 512)               2623488   \n",
            "_________________________________________________________________\n",
            "dense_4 (Dense)              (None, 24)                12312     \n",
            "_________________________________________________________________\n",
            "dense_5 (Dense)              (None, 1)                 25        \n",
            "=================================================================\n",
            "Total params: 17,340,073\n",
            "Trainable params: 17,340,073\n",
            "Non-trainable params: 0\n",
            "_________________________________________________________________\n"
          ]
        }
      ]
    },
    {
      "cell_type": "code",
      "metadata": {
        "colab": {
          "base_uri": "https://localhost:8080/"
        },
        "id": "ErQRXXWl4IFP",
        "outputId": "52d4f391-7856-4ebb-c7be-8b377b4f9fba"
      },
      "source": [
        "import os\n",
        "checkpoint_dir = os.path.dirname(checkpoint_path)\n",
        "\n",
        "# Create a callback that saves the model's weights\n",
        "cp_callback = tf.keras.callbacks.ModelCheckpoint(filepath=checkpoint_path,\n",
        "                                                 save_weights_only=True,\n",
        "                                                 verbose=2,\n",
        "                                                 monitor='val_accuracy',\n",
        "                                                  mode='max',\n",
        "                                                  save_best_only=True)\n",
        "\n",
        "# Train the model with the new callback\n",
        "history = model.fit(training_padded, \n",
        "          training_labels,  \n",
        "          epochs=100,\n",
        "          validation_data=(testing_padded, testing_labels),\n",
        "          callbacks=[cp_callback],\n",
        "          verbose=2)  # Pass callback to training"
      ],
      "execution_count": null,
      "outputs": [
        {
          "output_type": "stream",
          "name": "stdout",
          "text": [
            "Epoch 1/100\n",
            "81/81 - 97s - loss: 0.5739 - accuracy: 0.6798 - val_loss: 0.4089 - val_accuracy: 0.8131\n",
            "\n",
            "Epoch 00001: val_accuracy improved from -inf to 0.81308, saving model to training/cp.ckpt\n",
            "Epoch 2/100\n",
            "81/81 - 90s - loss: 0.3530 - accuracy: 0.8495 - val_loss: 0.2709 - val_accuracy: 0.8972\n",
            "\n",
            "Epoch 00002: val_accuracy improved from 0.81308 to 0.89720, saving model to training/cp.ckpt\n",
            "Epoch 3/100\n",
            "81/81 - 90s - loss: 0.2421 - accuracy: 0.9064 - val_loss: 0.2212 - val_accuracy: 0.9159\n",
            "\n",
            "Epoch 00003: val_accuracy improved from 0.89720 to 0.91589, saving model to training/cp.ckpt\n",
            "Epoch 4/100\n",
            "81/81 - 90s - loss: 0.1902 - accuracy: 0.9376 - val_loss: 0.1808 - val_accuracy: 0.9470\n",
            "\n",
            "Epoch 00004: val_accuracy improved from 0.91589 to 0.94704, saving model to training/cp.ckpt\n",
            "Epoch 5/100\n",
            "81/81 - 90s - loss: 0.1698 - accuracy: 0.9345 - val_loss: 0.2161 - val_accuracy: 0.9190\n",
            "\n",
            "Epoch 00005: val_accuracy did not improve from 0.94704\n",
            "Epoch 6/100\n",
            "81/81 - 90s - loss: 0.1138 - accuracy: 0.9602 - val_loss: 0.1608 - val_accuracy: 0.9502\n",
            "\n",
            "Epoch 00006: val_accuracy improved from 0.94704 to 0.95016, saving model to training/cp.ckpt\n",
            "Epoch 7/100\n",
            "81/81 - 90s - loss: 0.1004 - accuracy: 0.9665 - val_loss: 0.1905 - val_accuracy: 0.9346\n",
            "\n",
            "Epoch 00007: val_accuracy did not improve from 0.95016\n",
            "Epoch 8/100\n",
            "81/81 - 89s - loss: 0.0855 - accuracy: 0.9680 - val_loss: 0.1552 - val_accuracy: 0.9408\n",
            "\n",
            "Epoch 00008: val_accuracy did not improve from 0.95016\n",
            "Epoch 9/100\n",
            "81/81 - 90s - loss: 0.0728 - accuracy: 0.9735 - val_loss: 0.1541 - val_accuracy: 0.9455\n",
            "\n",
            "Epoch 00009: val_accuracy did not improve from 0.95016\n",
            "Epoch 10/100\n",
            "81/81 - 90s - loss: 0.0571 - accuracy: 0.9813 - val_loss: 0.1816 - val_accuracy: 0.9439\n",
            "\n",
            "Epoch 00010: val_accuracy did not improve from 0.95016\n",
            "Epoch 11/100\n",
            "81/81 - 90s - loss: 0.0624 - accuracy: 0.9746 - val_loss: 0.2172 - val_accuracy: 0.9408\n",
            "\n",
            "Epoch 00011: val_accuracy did not improve from 0.95016\n",
            "Epoch 12/100\n",
            "81/81 - 89s - loss: 0.0516 - accuracy: 0.9793 - val_loss: 0.1889 - val_accuracy: 0.9486\n",
            "\n",
            "Epoch 00012: val_accuracy did not improve from 0.95016\n",
            "Epoch 13/100\n",
            "81/81 - 90s - loss: 0.0446 - accuracy: 0.9848 - val_loss: 0.2581 - val_accuracy: 0.9393\n",
            "\n",
            "Epoch 00013: val_accuracy did not improve from 0.95016\n",
            "Epoch 14/100\n",
            "81/81 - 90s - loss: 0.0395 - accuracy: 0.9852 - val_loss: 0.2235 - val_accuracy: 0.9346\n",
            "\n",
            "Epoch 00014: val_accuracy did not improve from 0.95016\n",
            "Epoch 15/100\n",
            "81/81 - 90s - loss: 0.0671 - accuracy: 0.9746 - val_loss: 0.1843 - val_accuracy: 0.9470\n",
            "\n",
            "Epoch 00015: val_accuracy did not improve from 0.95016\n",
            "Epoch 16/100\n",
            "81/81 - 90s - loss: 0.0570 - accuracy: 0.9797 - val_loss: 0.1821 - val_accuracy: 0.9548\n",
            "\n",
            "Epoch 00016: val_accuracy improved from 0.95016 to 0.95483, saving model to training/cp.ckpt\n",
            "Epoch 17/100\n",
            "81/81 - 90s - loss: 0.0412 - accuracy: 0.9879 - val_loss: 0.2383 - val_accuracy: 0.9361\n",
            "\n",
            "Epoch 00017: val_accuracy did not improve from 0.95483\n",
            "Epoch 18/100\n",
            "81/81 - 90s - loss: 0.0378 - accuracy: 0.9875 - val_loss: 0.2972 - val_accuracy: 0.9377\n",
            "\n",
            "Epoch 00018: val_accuracy did not improve from 0.95483\n",
            "Epoch 19/100\n",
            "81/81 - 90s - loss: 0.0247 - accuracy: 0.9926 - val_loss: 0.3186 - val_accuracy: 0.9377\n",
            "\n",
            "Epoch 00019: val_accuracy did not improve from 0.95483\n",
            "Epoch 20/100\n",
            "81/81 - 89s - loss: 0.0117 - accuracy: 0.9969 - val_loss: 0.2438 - val_accuracy: 0.9533\n",
            "\n",
            "Epoch 00020: val_accuracy did not improve from 0.95483\n",
            "Epoch 21/100\n",
            "81/81 - 89s - loss: 0.0292 - accuracy: 0.9902 - val_loss: 0.2437 - val_accuracy: 0.9470\n",
            "\n",
            "Epoch 00021: val_accuracy did not improve from 0.95483\n",
            "Epoch 22/100\n",
            "81/81 - 89s - loss: 0.0197 - accuracy: 0.9941 - val_loss: 0.2564 - val_accuracy: 0.9564\n",
            "\n",
            "Epoch 00022: val_accuracy improved from 0.95483 to 0.95639, saving model to training/cp.ckpt\n",
            "Epoch 23/100\n",
            "81/81 - 89s - loss: 0.0439 - accuracy: 0.9832 - val_loss: 0.2185 - val_accuracy: 0.9533\n",
            "\n",
            "Epoch 00023: val_accuracy did not improve from 0.95639\n",
            "Epoch 24/100\n",
            "81/81 - 89s - loss: 0.0124 - accuracy: 0.9961 - val_loss: 0.2248 - val_accuracy: 0.9517\n",
            "\n",
            "Epoch 00024: val_accuracy did not improve from 0.95639\n",
            "Epoch 25/100\n",
            "81/81 - 89s - loss: 0.0115 - accuracy: 0.9953 - val_loss: 0.3699 - val_accuracy: 0.9252\n",
            "\n",
            "Epoch 00025: val_accuracy did not improve from 0.95639\n",
            "Epoch 26/100\n",
            "81/81 - 89s - loss: 0.0431 - accuracy: 0.9871 - val_loss: 0.2770 - val_accuracy: 0.9393\n",
            "\n",
            "Epoch 00026: val_accuracy did not improve from 0.95639\n",
            "Epoch 27/100\n",
            "81/81 - 89s - loss: 0.0118 - accuracy: 0.9957 - val_loss: 0.2580 - val_accuracy: 0.9439\n",
            "\n",
            "Epoch 00027: val_accuracy did not improve from 0.95639\n",
            "Epoch 28/100\n",
            "81/81 - 89s - loss: 0.0055 - accuracy: 0.9977 - val_loss: 0.2640 - val_accuracy: 0.9502\n",
            "\n",
            "Epoch 00028: val_accuracy did not improve from 0.95639\n",
            "Epoch 29/100\n",
            "81/81 - 89s - loss: 0.0051 - accuracy: 0.9980 - val_loss: 0.3047 - val_accuracy: 0.9548\n",
            "\n",
            "Epoch 00029: val_accuracy did not improve from 0.95639\n",
            "Epoch 30/100\n",
            "81/81 - 89s - loss: 0.0172 - accuracy: 0.9934 - val_loss: 0.2747 - val_accuracy: 0.9455\n",
            "\n",
            "Epoch 00030: val_accuracy did not improve from 0.95639\n",
            "Epoch 31/100\n",
            "81/81 - 89s - loss: 0.0052 - accuracy: 0.9977 - val_loss: 0.2757 - val_accuracy: 0.9486\n",
            "\n",
            "Epoch 00031: val_accuracy did not improve from 0.95639\n",
            "Epoch 32/100\n",
            "81/81 - 89s - loss: 0.0018 - accuracy: 0.9996 - val_loss: 0.2903 - val_accuracy: 0.9533\n",
            "\n",
            "Epoch 00032: val_accuracy did not improve from 0.95639\n",
            "Epoch 33/100\n",
            "81/81 - 89s - loss: 8.1040e-04 - accuracy: 1.0000 - val_loss: 0.2947 - val_accuracy: 0.9548\n",
            "\n",
            "Epoch 00033: val_accuracy did not improve from 0.95639\n",
            "Epoch 34/100\n",
            "81/81 - 89s - loss: 4.5834e-04 - accuracy: 1.0000 - val_loss: 0.3015 - val_accuracy: 0.9548\n",
            "\n",
            "Epoch 00034: val_accuracy did not improve from 0.95639\n",
            "Epoch 35/100\n",
            "81/81 - 89s - loss: 2.9100e-04 - accuracy: 1.0000 - val_loss: 0.3435 - val_accuracy: 0.9486\n",
            "\n",
            "Epoch 00035: val_accuracy did not improve from 0.95639\n",
            "Epoch 36/100\n",
            "81/81 - 89s - loss: 2.4645e-04 - accuracy: 1.0000 - val_loss: 0.3423 - val_accuracy: 0.9502\n",
            "\n",
            "Epoch 00036: val_accuracy did not improve from 0.95639\n",
            "Epoch 37/100\n",
            "81/81 - 90s - loss: 2.0012e-04 - accuracy: 1.0000 - val_loss: 0.3483 - val_accuracy: 0.9502\n",
            "\n",
            "Epoch 00037: val_accuracy did not improve from 0.95639\n",
            "Epoch 38/100\n",
            "81/81 - 89s - loss: 1.7230e-04 - accuracy: 1.0000 - val_loss: 0.3561 - val_accuracy: 0.9502\n",
            "\n",
            "Epoch 00038: val_accuracy did not improve from 0.95639\n",
            "Epoch 39/100\n",
            "81/81 - 90s - loss: 1.4660e-04 - accuracy: 1.0000 - val_loss: 0.3650 - val_accuracy: 0.9486\n",
            "\n",
            "Epoch 00039: val_accuracy did not improve from 0.95639\n",
            "Epoch 40/100\n",
            "81/81 - 90s - loss: 1.2765e-04 - accuracy: 1.0000 - val_loss: 0.3693 - val_accuracy: 0.9502\n",
            "\n",
            "Epoch 00040: val_accuracy did not improve from 0.95639\n",
            "Epoch 41/100\n",
            "81/81 - 90s - loss: 1.0978e-04 - accuracy: 1.0000 - val_loss: 0.3780 - val_accuracy: 0.9486\n",
            "\n",
            "Epoch 00041: val_accuracy did not improve from 0.95639\n",
            "Epoch 42/100\n",
            "81/81 - 90s - loss: 9.6113e-05 - accuracy: 1.0000 - val_loss: 0.3807 - val_accuracy: 0.9502\n",
            "\n",
            "Epoch 00042: val_accuracy did not improve from 0.95639\n",
            "Epoch 43/100\n",
            "81/81 - 90s - loss: 8.6251e-05 - accuracy: 1.0000 - val_loss: 0.3868 - val_accuracy: 0.9486\n",
            "\n",
            "Epoch 00043: val_accuracy did not improve from 0.95639\n",
            "Epoch 44/100\n",
            "81/81 - 90s - loss: 7.6151e-05 - accuracy: 1.0000 - val_loss: 0.3935 - val_accuracy: 0.9470\n",
            "\n",
            "Epoch 00044: val_accuracy did not improve from 0.95639\n",
            "Epoch 45/100\n",
            "81/81 - 90s - loss: 7.4492e-05 - accuracy: 1.0000 - val_loss: 0.3574 - val_accuracy: 0.9533\n",
            "\n",
            "Epoch 00045: val_accuracy did not improve from 0.95639\n",
            "Epoch 46/100\n",
            "81/81 - 90s - loss: 8.1420e-05 - accuracy: 1.0000 - val_loss: 0.3615 - val_accuracy: 0.9517\n",
            "\n",
            "Epoch 00046: val_accuracy did not improve from 0.95639\n",
            "Epoch 47/100\n",
            "81/81 - 90s - loss: 6.6710e-05 - accuracy: 1.0000 - val_loss: 0.3641 - val_accuracy: 0.9502\n",
            "\n",
            "Epoch 00047: val_accuracy did not improve from 0.95639\n",
            "Epoch 48/100\n",
            "81/81 - 90s - loss: 5.9260e-05 - accuracy: 1.0000 - val_loss: 0.3681 - val_accuracy: 0.9517\n",
            "\n",
            "Epoch 00048: val_accuracy did not improve from 0.95639\n",
            "Epoch 49/100\n",
            "81/81 - 90s - loss: 5.3080e-05 - accuracy: 1.0000 - val_loss: 0.3711 - val_accuracy: 0.9517\n",
            "\n",
            "Epoch 00049: val_accuracy did not improve from 0.95639\n",
            "Epoch 50/100\n",
            "81/81 - 90s - loss: 4.8234e-05 - accuracy: 1.0000 - val_loss: 0.3740 - val_accuracy: 0.9517\n",
            "\n",
            "Epoch 00050: val_accuracy did not improve from 0.95639\n",
            "Epoch 51/100\n",
            "81/81 - 90s - loss: 4.3974e-05 - accuracy: 1.0000 - val_loss: 0.3772 - val_accuracy: 0.9517\n",
            "\n",
            "Epoch 00051: val_accuracy did not improve from 0.95639\n",
            "Epoch 52/100\n",
            "81/81 - 90s - loss: 4.0300e-05 - accuracy: 1.0000 - val_loss: 0.3799 - val_accuracy: 0.9517\n",
            "\n",
            "Epoch 00052: val_accuracy did not improve from 0.95639\n",
            "Epoch 53/100\n",
            "81/81 - 90s - loss: 3.7125e-05 - accuracy: 1.0000 - val_loss: 0.4152 - val_accuracy: 0.9486\n",
            "\n",
            "Epoch 00053: val_accuracy did not improve from 0.95639\n",
            "Epoch 54/100\n",
            "81/81 - 90s - loss: 3.4444e-05 - accuracy: 1.0000 - val_loss: 0.4162 - val_accuracy: 0.9486\n",
            "\n",
            "Epoch 00054: val_accuracy did not improve from 0.95639\n",
            "Epoch 55/100\n",
            "81/81 - 90s - loss: 3.1880e-05 - accuracy: 1.0000 - val_loss: 0.4126 - val_accuracy: 0.9502\n",
            "\n",
            "Epoch 00055: val_accuracy did not improve from 0.95639\n",
            "Epoch 56/100\n",
            "81/81 - 90s - loss: 2.9636e-05 - accuracy: 1.0000 - val_loss: 0.4165 - val_accuracy: 0.9502\n",
            "\n",
            "Epoch 00056: val_accuracy did not improve from 0.95639\n",
            "Epoch 57/100\n",
            "81/81 - 90s - loss: 2.7694e-05 - accuracy: 1.0000 - val_loss: 0.4240 - val_accuracy: 0.9470\n",
            "\n",
            "Epoch 00057: val_accuracy did not improve from 0.95639\n",
            "Epoch 58/100\n",
            "81/81 - 90s - loss: 2.5887e-05 - accuracy: 1.0000 - val_loss: 0.4280 - val_accuracy: 0.9486\n",
            "\n",
            "Epoch 00058: val_accuracy did not improve from 0.95639\n",
            "Epoch 59/100\n",
            "81/81 - 90s - loss: 2.4048e-05 - accuracy: 1.0000 - val_loss: 0.4324 - val_accuracy: 0.9486\n",
            "\n",
            "Epoch 00059: val_accuracy did not improve from 0.95639\n",
            "Epoch 60/100\n",
            "81/81 - 90s - loss: 2.2644e-05 - accuracy: 1.0000 - val_loss: 0.4362 - val_accuracy: 0.9486\n",
            "\n",
            "Epoch 00060: val_accuracy did not improve from 0.95639\n",
            "Epoch 61/100\n",
            "81/81 - 90s - loss: 2.1404e-05 - accuracy: 1.0000 - val_loss: 0.4415 - val_accuracy: 0.9486\n",
            "\n",
            "Epoch 00061: val_accuracy did not improve from 0.95639\n",
            "Epoch 62/100\n",
            "81/81 - 90s - loss: 2.0146e-05 - accuracy: 1.0000 - val_loss: 0.4462 - val_accuracy: 0.9486\n",
            "\n",
            "Epoch 00062: val_accuracy did not improve from 0.95639\n",
            "Epoch 63/100\n",
            "81/81 - 90s - loss: 1.8763e-05 - accuracy: 1.0000 - val_loss: 0.4489 - val_accuracy: 0.9486\n",
            "\n",
            "Epoch 00063: val_accuracy did not improve from 0.95639\n",
            "Epoch 64/100\n",
            "81/81 - 90s - loss: 1.7628e-05 - accuracy: 1.0000 - val_loss: 0.4607 - val_accuracy: 0.9470\n",
            "\n",
            "Epoch 00064: val_accuracy did not improve from 0.95639\n",
            "Epoch 65/100\n",
            "81/81 - 90s - loss: 1.6693e-05 - accuracy: 1.0000 - val_loss: 0.4761 - val_accuracy: 0.9470\n",
            "\n",
            "Epoch 00065: val_accuracy did not improve from 0.95639\n",
            "Epoch 66/100\n",
            "81/81 - 90s - loss: 1.5691e-05 - accuracy: 1.0000 - val_loss: 0.4834 - val_accuracy: 0.9470\n",
            "\n",
            "Epoch 00066: val_accuracy did not improve from 0.95639\n",
            "Epoch 67/100\n",
            "81/81 - 90s - loss: 1.4826e-05 - accuracy: 1.0000 - val_loss: 0.4879 - val_accuracy: 0.9470\n",
            "\n",
            "Epoch 00067: val_accuracy did not improve from 0.95639\n",
            "Epoch 68/100\n",
            "81/81 - 90s - loss: 1.4105e-05 - accuracy: 1.0000 - val_loss: 0.4921 - val_accuracy: 0.9470\n",
            "\n",
            "Epoch 00068: val_accuracy did not improve from 0.95639\n",
            "Epoch 69/100\n",
            "81/81 - 90s - loss: 1.3243e-05 - accuracy: 1.0000 - val_loss: 0.4965 - val_accuracy: 0.9470\n",
            "\n",
            "Epoch 00069: val_accuracy did not improve from 0.95639\n",
            "Epoch 70/100\n",
            "81/81 - 90s - loss: 1.2577e-05 - accuracy: 1.0000 - val_loss: 0.4997 - val_accuracy: 0.9470\n",
            "\n",
            "Epoch 00070: val_accuracy did not improve from 0.95639\n",
            "Epoch 71/100\n",
            "81/81 - 90s - loss: 1.1950e-05 - accuracy: 1.0000 - val_loss: 0.5019 - val_accuracy: 0.9470\n",
            "\n",
            "Epoch 00071: val_accuracy did not improve from 0.95639\n",
            "Epoch 72/100\n",
            "81/81 - 90s - loss: 1.1440e-05 - accuracy: 1.0000 - val_loss: 0.5054 - val_accuracy: 0.9470\n",
            "\n",
            "Epoch 00072: val_accuracy did not improve from 0.95639\n",
            "Epoch 73/100\n",
            "81/81 - 90s - loss: 1.0836e-05 - accuracy: 1.0000 - val_loss: 0.5068 - val_accuracy: 0.9470\n",
            "\n",
            "Epoch 00073: val_accuracy did not improve from 0.95639\n",
            "Epoch 74/100\n",
            "81/81 - 90s - loss: 1.0280e-05 - accuracy: 1.0000 - val_loss: 0.5102 - val_accuracy: 0.9470\n",
            "\n",
            "Epoch 00074: val_accuracy did not improve from 0.95639\n",
            "Epoch 75/100\n",
            "81/81 - 90s - loss: 9.8429e-06 - accuracy: 1.0000 - val_loss: 0.5137 - val_accuracy: 0.9470\n",
            "\n",
            "Epoch 00075: val_accuracy did not improve from 0.95639\n",
            "Epoch 76/100\n",
            "81/81 - 90s - loss: 9.3911e-06 - accuracy: 1.0000 - val_loss: 0.5141 - val_accuracy: 0.9470\n",
            "\n",
            "Epoch 00076: val_accuracy did not improve from 0.95639\n",
            "Epoch 77/100\n",
            "81/81 - 90s - loss: 8.9113e-06 - accuracy: 1.0000 - val_loss: 0.5170 - val_accuracy: 0.9470\n",
            "\n",
            "Epoch 00077: val_accuracy did not improve from 0.95639\n",
            "Epoch 78/100\n",
            "81/81 - 90s - loss: 8.4885e-06 - accuracy: 1.0000 - val_loss: 0.5193 - val_accuracy: 0.9470\n",
            "\n",
            "Epoch 00078: val_accuracy did not improve from 0.95639\n",
            "Epoch 79/100\n",
            "81/81 - 90s - loss: 8.1468e-06 - accuracy: 1.0000 - val_loss: 0.5225 - val_accuracy: 0.9470\n",
            "\n",
            "Epoch 00079: val_accuracy did not improve from 0.95639\n",
            "Epoch 80/100\n",
            "81/81 - 90s - loss: 7.7045e-06 - accuracy: 1.0000 - val_loss: 0.5236 - val_accuracy: 0.9470\n",
            "\n",
            "Epoch 00080: val_accuracy did not improve from 0.95639\n",
            "Epoch 81/100\n",
            "81/81 - 90s - loss: 7.3662e-06 - accuracy: 1.0000 - val_loss: 0.5255 - val_accuracy: 0.9470\n",
            "\n",
            "Epoch 00081: val_accuracy did not improve from 0.95639\n",
            "Epoch 82/100\n",
            "81/81 - 90s - loss: 7.0314e-06 - accuracy: 1.0000 - val_loss: 0.5283 - val_accuracy: 0.9470\n",
            "\n",
            "Epoch 00082: val_accuracy did not improve from 0.95639\n",
            "Epoch 83/100\n",
            "81/81 - 90s - loss: 6.7010e-06 - accuracy: 1.0000 - val_loss: 0.5309 - val_accuracy: 0.9470\n",
            "\n",
            "Epoch 00083: val_accuracy did not improve from 0.95639\n",
            "Epoch 84/100\n",
            "81/81 - 90s - loss: 6.3941e-06 - accuracy: 1.0000 - val_loss: 0.5337 - val_accuracy: 0.9470\n",
            "\n",
            "Epoch 00084: val_accuracy did not improve from 0.95639\n",
            "Epoch 85/100\n",
            "81/81 - 90s - loss: 6.1217e-06 - accuracy: 1.0000 - val_loss: 0.5362 - val_accuracy: 0.9470\n",
            "\n",
            "Epoch 00085: val_accuracy did not improve from 0.95639\n",
            "Epoch 86/100\n",
            "81/81 - 90s - loss: 5.8724e-06 - accuracy: 1.0000 - val_loss: 0.5382 - val_accuracy: 0.9455\n",
            "\n",
            "Epoch 00086: val_accuracy did not improve from 0.95639\n",
            "Epoch 87/100\n",
            "81/81 - 90s - loss: 5.5902e-06 - accuracy: 1.0000 - val_loss: 0.5408 - val_accuracy: 0.9455\n",
            "\n",
            "Epoch 00087: val_accuracy did not improve from 0.95639\n",
            "Epoch 88/100\n",
            "81/81 - 90s - loss: 5.3505e-06 - accuracy: 1.0000 - val_loss: 0.5429 - val_accuracy: 0.9455\n",
            "\n",
            "Epoch 00088: val_accuracy did not improve from 0.95639\n",
            "Epoch 89/100\n",
            "81/81 - 90s - loss: 5.1032e-06 - accuracy: 1.0000 - val_loss: 0.5448 - val_accuracy: 0.9455\n",
            "\n",
            "Epoch 00089: val_accuracy did not improve from 0.95639\n",
            "Epoch 90/100\n",
            "81/81 - 90s - loss: 4.8721e-06 - accuracy: 1.0000 - val_loss: 0.5466 - val_accuracy: 0.9455\n",
            "\n",
            "Epoch 00090: val_accuracy did not improve from 0.95639\n",
            "Epoch 91/100\n",
            "81/81 - 90s - loss: 4.6600e-06 - accuracy: 1.0000 - val_loss: 0.5493 - val_accuracy: 0.9455\n",
            "\n",
            "Epoch 00091: val_accuracy did not improve from 0.95639\n",
            "Epoch 92/100\n",
            "81/81 - 90s - loss: 4.4498e-06 - accuracy: 1.0000 - val_loss: 0.5509 - val_accuracy: 0.9455\n",
            "\n",
            "Epoch 00092: val_accuracy did not improve from 0.95639\n",
            "Epoch 93/100\n",
            "81/81 - 90s - loss: 4.2708e-06 - accuracy: 1.0000 - val_loss: 0.5535 - val_accuracy: 0.9455\n",
            "\n",
            "Epoch 00093: val_accuracy did not improve from 0.95639\n",
            "Epoch 94/100\n",
            "81/81 - 90s - loss: 4.0875e-06 - accuracy: 1.0000 - val_loss: 0.5556 - val_accuracy: 0.9455\n",
            "\n",
            "Epoch 00094: val_accuracy did not improve from 0.95639\n",
            "Epoch 95/100\n",
            "81/81 - 90s - loss: 3.8960e-06 - accuracy: 1.0000 - val_loss: 0.5586 - val_accuracy: 0.9455\n",
            "\n",
            "Epoch 00095: val_accuracy did not improve from 0.95639\n",
            "Epoch 96/100\n",
            "81/81 - 90s - loss: 3.7208e-06 - accuracy: 1.0000 - val_loss: 0.5603 - val_accuracy: 0.9455\n",
            "\n",
            "Epoch 00096: val_accuracy did not improve from 0.95639\n",
            "Epoch 97/100\n",
            "81/81 - 90s - loss: 3.5554e-06 - accuracy: 1.0000 - val_loss: 0.5625 - val_accuracy: 0.9455\n",
            "\n",
            "Epoch 00097: val_accuracy did not improve from 0.95639\n",
            "Epoch 98/100\n",
            "81/81 - 90s - loss: 3.3201e-06 - accuracy: 1.0000 - val_loss: 0.5665 - val_accuracy: 0.9455\n",
            "\n",
            "Epoch 00098: val_accuracy did not improve from 0.95639\n",
            "Epoch 99/100\n",
            "81/81 - 90s - loss: 3.0684e-06 - accuracy: 1.0000 - val_loss: 0.5706 - val_accuracy: 0.9455\n",
            "\n",
            "Epoch 00099: val_accuracy did not improve from 0.95639\n",
            "Epoch 100/100\n",
            "81/81 - 90s - loss: 2.8715e-06 - accuracy: 1.0000 - val_loss: 0.5741 - val_accuracy: 0.9455\n",
            "\n",
            "Epoch 00100: val_accuracy did not improve from 0.95639\n"
          ]
        }
      ]
    },
    {
      "cell_type": "code",
      "metadata": {
        "colab": {
          "base_uri": "https://localhost:8080/"
        },
        "id": "aCUF6H_nDAJM",
        "outputId": "483f6da0-329a-4ebc-bc72-5f5aec7900d2"
      },
      "source": [
        "# Loads the weights\n",
        "model.load_weights(checkpoint_path)\n",
        "\n",
        "# Re-evaluate the model\n",
        "loss, acc = model.evaluate(testing_padded, testing_labels, verbose=2)\n",
        "print(\"Restored model, accuracy: {:5.2f}%\".format(100 * acc))"
      ],
      "execution_count": null,
      "outputs": [
        {
          "output_type": "stream",
          "name": "stdout",
          "text": [
            "21/21 - 8s - loss: 0.2564 - accuracy: 0.9564\n",
            "Restored model, accuracy: 95.64%\n"
          ]
        }
      ]
    },
    {
      "cell_type": "code",
      "metadata": {
        "id": "ENS8xEAf5aih",
        "colab": {
          "base_uri": "https://localhost:8080/"
        },
        "outputId": "0644893c-e2a5-449f-cccc-643664b4eabe"
      },
      "source": [
        "from sklearn.metrics import classification_report\n",
        "\n",
        "\n",
        "sequences = tokenizer.texts_to_sequences(testing_sentences)\n",
        "padded_seqs = pad_sequences(sequences, maxlen=max_length, padding=padding_type, truncating=trunc_type)\n",
        "\n",
        "y_pred = model.predict(padded_seqs)\n",
        "print(y_pred[0:10])\n",
        "\n",
        "y_pred = [1 if x > 0.5 else 0 for x in y_pred]\n",
        "print(y_pred[0:10])\n",
        "print(testing_labels[0:10])\n",
        "\n",
        "print(classification_report(testing_labels, y_pred))\n"
      ],
      "execution_count": null,
      "outputs": [
        {
          "output_type": "stream",
          "name": "stdout",
          "text": [
            "[[9.9981898e-01]\n",
            " [9.9904948e-01]\n",
            " [4.9238955e-04]\n",
            " [9.9796164e-01]\n",
            " [1.8919425e-04]\n",
            " [9.9993110e-01]\n",
            " [9.9993777e-01]\n",
            " [9.9975270e-01]\n",
            " [2.4193093e-04]\n",
            " [9.9993265e-01]]\n",
            "[1, 1, 0, 1, 0, 1, 1, 1, 0, 1]\n",
            "[1 1 0 1 0 1 1 1 1 1]\n",
            "              precision    recall  f1-score   support\n",
            "\n",
            "           0       0.93      0.98      0.95       298\n",
            "           1       0.98      0.94      0.96       344\n",
            "\n",
            "    accuracy                           0.96       642\n",
            "   macro avg       0.96      0.96      0.96       642\n",
            "weighted avg       0.96      0.96      0.96       642\n",
            "\n"
          ]
        }
      ]
    },
    {
      "cell_type": "code",
      "metadata": {
        "colab": {
          "base_uri": "https://localhost:8080/"
        },
        "id": "sQ874HDNG_me",
        "outputId": "e64197e6-16ab-4e16-fc3d-6ed3bd5476b1"
      },
      "source": [
        "from sklearn.metrics import f1_score, precision_score, recall_score, confusion_matrix\n",
        "\n",
        "# Print f1, precision, and recall scores\n",
        "print(f'Precision: {precision_score(testing_labels, y_pred , average=\"macro\")}')\n",
        "print(f'Recall: {recall_score(testing_labels, y_pred , average=\"macro\")}')\n",
        "print(f'f1-score: {f1_score(testing_labels, y_pred , average=\"macro\")}')"
      ],
      "execution_count": null,
      "outputs": [
        {
          "output_type": "stream",
          "name": "stdout",
          "text": [
            "Precision: 0.9557400932400932\n",
            "Recall: 0.9577317777430935\n",
            "f1-score: 0.9562776669747531\n"
          ]
        }
      ]
    },
    {
      "cell_type": "code",
      "metadata": {
        "colab": {
          "base_uri": "https://localhost:8080/",
          "height": 277
        },
        "id": "1yyTwKjtdIYY",
        "outputId": "a18be58b-2f16-4163-d3f6-84b47422dd80"
      },
      "source": [
        "from sklearn.metrics import ConfusionMatrixDisplay\n",
        "from sklearn.metrics import confusion_matrix\n",
        "import matplotlib.pyplot as plt\n",
        "import numpy as np\n",
        "\n",
        "labels = [\"Legitimate News\", \"Fake News\"]\n",
        "cm = confusion_matrix(testing_labels, y_pred)\n",
        "disp = ConfusionMatrixDisplay(confusion_matrix=cm, display_labels=labels)\n",
        "disp.plot(cmap=plt.cm.Blues, values_format='')\n",
        "plt.show()"
      ],
      "execution_count": null,
      "outputs": [
        {
          "output_type": "display_data",
          "data": {
            "image/png": "[encoded data removed]",
            "text/plain": [
              "<Figure size 432x288 with 2 Axes>"
            ]
          },
          "metadata": {
            "needs_background": "light"
          }
        }
      ]
    },
    {
      "cell_type": "code",
      "metadata": {
        "id": "75tLuwuqx-Zf",
        "colab": {
          "base_uri": "https://localhost:8080/",
          "height": 542
        },
        "outputId": "26827f92-e6ca-4971-f638-3bde24ba9394"
      },
      "source": [
        "import matplotlib.pyplot as plt\n",
        "\n",
        "def plot_graphs(history, string):\n",
        "  plt.plot(history.history[string])\n",
        "  plt.plot(history.history['val_'+string])\n",
        "  \n",
        "  plt.legend([string, 'val_'+string])\n",
        "  plt.xlabel(\"Epochs\")\n",
        "  plt.ylabel(string)\n",
        "  plt.show()\n",
        "\n",
        "\n",
        "  \n",
        "plot_graphs(history, \"accuracy\")\n",
        "plot_graphs(history, \"loss\")"
      ],
      "execution_count": null,
      "outputs": [
        {
          "output_type": "display_data",
          "data": {
            "image/png": "[encoded data removed]",
            "text/plain": [
              "<Figure size 432x288 with 1 Axes>"
            ]
          },
          "metadata": {
            "needs_background": "light"
          }
        },
        {
          "output_type": "display_data",
          "data": {
            "image/png": "[encoded data removed]",
            "text/plain": [
              "<Figure size 432x288 with 1 Axes>"
            ]
          },
          "metadata": {
            "needs_background": "light"
          }
        }
      ]
    },
    {
      "cell_type": "code",
      "metadata": {
        "id": "FHH2in5g9vCn"
      },
      "source": [
        ""
      ],
      "execution_count": null,
      "outputs": []
    }
  ]
}