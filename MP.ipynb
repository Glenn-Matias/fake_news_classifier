{
  "nbformat": 4,
  "nbformat_minor": 0,
  "metadata": {
    "colab": {
      "name": "MP.ipynb",
      "provenance": [],
      "collapsed_sections": [],
      "authorship_tag": "ABX9TyOmeWUxJSdeTNBJhBtoYHjw",
      "include_colab_link": true
    },
    "kernelspec": {
      "name": "python3",
      "display_name": "Python 3"
    },
    "language_info": {
      "name": "python"
    },
    "accelerator": "GPU"
  },
  "cells": [
    {
      "cell_type": "markdown",
      "metadata": {
        "id": "view-in-github",
        "colab_type": "text"
      },
      "source": [
        "<a href=\"https://colab.research.google.com/github/Glenn-Matias/fake_news_classifier/blob/main/MP.ipynb\" target=\"_parent\"><img src=\"https://colab.research.google.com/assets/colab-badge.svg\" alt=\"Open In Colab\"/></a>"
      ]
    },
    {
      "cell_type": "code",
      "metadata": {
        "id": "Un5g3c-XrBc9"
      },
      "source": [
        "##import the required libraries and APIs\n",
        "import numpy as np\n",
        "import tensorflow as tf\n",
        "from tensorflow.keras.preprocessing.text import Tokenizer\n",
        "from tensorflow.keras.preprocessing.sequence import pad_sequences\n",
        "import pandas as pd\n",
        "print(tf.__version__)\n",
        "!pip3 install advertools\n",
        "import advertools as adv\n",
        "from collections import Counter\n",
        "import string\n"
      ],
      "execution_count": null,
      "outputs": []
    },
    {
      "cell_type": "code",
      "metadata": {
        "id": "HoSwd0oYup88",
        "colab": {
          "base_uri": "https://localhost:8080/"
        },
        "outputId": "88f72aa5-2875-432b-a4d6-79ebf430cc70"
      },
      "source": [
        "!wget --no-check-certificate \\\n",
        "    https://s3.us-east-2.amazonaws.com/blaisecruz.com/datasets/fakenews/fakenews.zip\n",
        "!unzip \"/content/fakenews.zip\" -d \"/content/fakenews\""
      ],
      "execution_count": 2,
      "outputs": [
        {
          "output_type": "stream",
          "name": "stdout",
          "text": [
            "--2021-09-20 16:22:19--  https://s3.us-east-2.amazonaws.com/blaisecruz.com/datasets/fakenews/fakenews.zip\n",
            "Resolving s3.us-east-2.amazonaws.com (s3.us-east-2.amazonaws.com)... 52.219.106.17\n",
            "Connecting to s3.us-east-2.amazonaws.com (s3.us-east-2.amazonaws.com)|52.219.106.17|:443... connected.\n",
            "HTTP request sent, awaiting response... 200 OK\n",
            "Length: 1313458 (1.3M) [application/zip]\n",
            "Saving to: ‘fakenews.zip’\n",
            "\n",
            "fakenews.zip        100%[===================>]   1.25M  7.08MB/s    in 0.2s    \n",
            "\n",
            "2021-09-20 16:22:19 (7.08 MB/s) - ‘fakenews.zip’ saved [1313458/1313458]\n",
            "\n",
            "Archive:  /content/fakenews.zip\n",
            "   creating: /content/fakenews/fakenews/\n",
            "  inflating: /content/fakenews/fakenews/full.csv  \n"
          ]
        }
      ]
    },
    {
      "cell_type": "markdown",
      "metadata": {
        "id": "NsUXfU0kQWe7"
      },
      "source": [
        ""
      ]
    },
    {
      "cell_type": "code",
      "metadata": {
        "id": "v3gYV7dAu61s",
        "colab": {
          "base_uri": "https://localhost:8080/",
          "height": 349
        },
        "outputId": "5edd309f-3789-4ab0-875a-2a6837351207"
      },
      "source": [
        "data = pd.read_csv(\"./fakenews/fakenews/full.csv\")\n",
        "data.info()\n",
        "data.head()"
      ],
      "execution_count": 3,
      "outputs": [
        {
          "output_type": "stream",
          "name": "stdout",
          "text": [
            "<class 'pandas.core.frame.DataFrame'>\n",
            "RangeIndex: 3206 entries, 0 to 3205\n",
            "Data columns (total 2 columns):\n",
            " #   Column   Non-Null Count  Dtype \n",
            "---  ------   --------------  ----- \n",
            " 0   label    3206 non-null   int64 \n",
            " 1   article  3206 non-null   object\n",
            "dtypes: int64(1), object(1)\n",
            "memory usage: 50.2+ KB\n"
          ]
        },
        {
          "output_type": "execute_result",
          "data": {
            "text/html": [
              "<div>\n",
              "<style scoped>\n",
              "    .dataframe tbody tr th:only-of-type {\n",
              "        vertical-align: middle;\n",
              "    }\n",
              "\n",
              "    .dataframe tbody tr th {\n",
              "        vertical-align: top;\n",
              "    }\n",
              "\n",
              "    .dataframe thead th {\n",
              "        text-align: right;\n",
              "    }\n",
              "</style>\n",
              "<table border=\"1\" class=\"dataframe\">\n",
              "  <thead>\n",
              "    <tr style=\"text-align: right;\">\n",
              "      <th></th>\n",
              "      <th>label</th>\n",
              "      <th>article</th>\n",
              "    </tr>\n",
              "  </thead>\n",
              "  <tbody>\n",
              "    <tr>\n",
              "      <th>0</th>\n",
              "      <td>0</td>\n",
              "      <td>Ayon sa TheWrap.com, naghain ng kaso si Krupa,...</td>\n",
              "    </tr>\n",
              "    <tr>\n",
              "      <th>1</th>\n",
              "      <td>0</td>\n",
              "      <td>Kilala rin ang singer sa pagkumpas ng kanyang ...</td>\n",
              "    </tr>\n",
              "    <tr>\n",
              "      <th>2</th>\n",
              "      <td>0</td>\n",
              "      <td>BLANTYRE, Malawi (AP) -- Bumiyahe patungong Ma...</td>\n",
              "    </tr>\n",
              "    <tr>\n",
              "      <th>3</th>\n",
              "      <td>0</td>\n",
              "      <td>Kasama sa programa ang pananalangin, bulaklak ...</td>\n",
              "    </tr>\n",
              "    <tr>\n",
              "      <th>4</th>\n",
              "      <td>0</td>\n",
              "      <td>Linisin ang Friendship Department dahil dadala...</td>\n",
              "    </tr>\n",
              "  </tbody>\n",
              "</table>\n",
              "</div>"
            ],
            "text/plain": [
              "   label                                            article\n",
              "0      0  Ayon sa TheWrap.com, naghain ng kaso si Krupa,...\n",
              "1      0  Kilala rin ang singer sa pagkumpas ng kanyang ...\n",
              "2      0  BLANTYRE, Malawi (AP) -- Bumiyahe patungong Ma...\n",
              "3      0  Kasama sa programa ang pananalangin, bulaklak ...\n",
              "4      0  Linisin ang Friendship Department dahil dadala..."
            ]
          },
          "metadata": {},
          "execution_count": 3
        }
      ]
    },
    {
      "cell_type": "code",
      "metadata": {
        "id": "zjJsvPIxPckr",
        "colab": {
          "base_uri": "https://localhost:8080/",
          "height": 217
        },
        "outputId": "55016311-e1ff-48ea-ad81-a76acb9e26bd"
      },
      "source": [
        "# Get counts for the raw text\n",
        "data['total_words_raw'] = [len(x.split()) for x in data['article'].tolist()]\n",
        "\n",
        "max_length = data['total_words_raw'].max()\n",
        "print(max_length)\n",
        "\n",
        "\n",
        "# Change case to lowercase\n",
        "data['article'] = data['article'].str.lower()\n",
        "\n",
        "# Remove the tagalog stop words\n",
        "data['article_treated'] = data['article'].apply(lambda x: ' '.join([word for word in x.split() if word not in (adv.stopwords['tagalog'])]))\n",
        "\n",
        "# Remove symbols and punctuations \n",
        "# data['article_treated'] = data['article_treated'].apply(lambda x: ' '.join([word for word in x.split() if word not in string.punctuation]))\n",
        "\n",
        "\n",
        "# remove special characters !\"#$%&\\'()*+,-./:;<=>?@[\\\\]^_`{|}~\n",
        "def remove_special_characters(input_string):\n",
        "    for punctuation in string.punctuation:\n",
        "        input_string = input_string.replace(punctuation, '')\n",
        "    return input_string\n",
        "\n",
        "data['article_treated'] = data['article_treated'].apply(remove_special_characters)\n",
        "\n",
        "\n",
        "\n",
        "# Get counts for the treated text\n",
        "data['total_words_treated'] = [len(x.split()) for x in data['article_treated'].tolist()]\n",
        "\n",
        "\n",
        "data.head()"
      ],
      "execution_count": 5,
      "outputs": [
        {
          "output_type": "stream",
          "name": "stdout",
          "text": [
            "1074\n"
          ]
        },
        {
          "output_type": "execute_result",
          "data": {
            "text/html": [
              "<div>\n",
              "<style scoped>\n",
              "    .dataframe tbody tr th:only-of-type {\n",
              "        vertical-align: middle;\n",
              "    }\n",
              "\n",
              "    .dataframe tbody tr th {\n",
              "        vertical-align: top;\n",
              "    }\n",
              "\n",
              "    .dataframe thead th {\n",
              "        text-align: right;\n",
              "    }\n",
              "</style>\n",
              "<table border=\"1\" class=\"dataframe\">\n",
              "  <thead>\n",
              "    <tr style=\"text-align: right;\">\n",
              "      <th></th>\n",
              "      <th>label</th>\n",
              "      <th>article</th>\n",
              "      <th>total_words_raw</th>\n",
              "      <th>article_treated</th>\n",
              "      <th>total_words_treated</th>\n",
              "    </tr>\n",
              "  </thead>\n",
              "  <tbody>\n",
              "    <tr>\n",
              "      <th>0</th>\n",
              "      <td>0</td>\n",
              "      <td>ayon sa thewrap.com, naghain ng kaso si krupa,...</td>\n",
              "      <td>257</td>\n",
              "      <td>ayon thewrapcom naghain kaso si krupa 35 noong...</td>\n",
              "      <td>193</td>\n",
              "    </tr>\n",
              "    <tr>\n",
              "      <th>1</th>\n",
              "      <td>0</td>\n",
              "      <td>kilala rin ang singer sa pagkumpas ng kanyang ...</td>\n",
              "      <td>153</td>\n",
              "      <td>kilala rin singer pagkumpas kamay tuwing nagta...</td>\n",
              "      <td>115</td>\n",
              "    </tr>\n",
              "    <tr>\n",
              "      <th>2</th>\n",
              "      <td>0</td>\n",
              "      <td>blantyre, malawi (ap) -- bumiyahe patungong ma...</td>\n",
              "      <td>52</td>\n",
              "      <td>blantyre malawi ap  bumiyahe patungong malawi ...</td>\n",
              "      <td>40</td>\n",
              "    </tr>\n",
              "    <tr>\n",
              "      <th>3</th>\n",
              "      <td>0</td>\n",
              "      <td>kasama sa programa ang pananalangin, bulaklak ...</td>\n",
              "      <td>65</td>\n",
              "      <td>kasama programa pananalangin bulaklak pagsindi...</td>\n",
              "      <td>42</td>\n",
              "    </tr>\n",
              "    <tr>\n",
              "      <th>4</th>\n",
              "      <td>0</td>\n",
              "      <td>linisin ang friendship department dahil dadala...</td>\n",
              "      <td>26</td>\n",
              "      <td>linisin friendship department dadalawin angel ...</td>\n",
              "      <td>19</td>\n",
              "    </tr>\n",
              "  </tbody>\n",
              "</table>\n",
              "</div>"
            ],
            "text/plain": [
              "   label  ... total_words_treated\n",
              "0      0  ...                 193\n",
              "1      0  ...                 115\n",
              "2      0  ...                  40\n",
              "3      0  ...                  42\n",
              "4      0  ...                  19\n",
              "\n",
              "[5 rows x 5 columns]"
            ]
          },
          "metadata": {},
          "execution_count": 5
        }
      ]
    },
    {
      "cell_type": "code",
      "metadata": {
        "colab": {
          "base_uri": "https://localhost:8080/"
        },
        "id": "rCnLvwUgKotV",
        "outputId": "6cca2d2a-9bd8-4a7e-838e-59da69fcab22"
      },
      "source": [
        "print(f\"Avg words raw: {data.total_words_raw.sum()/data.shape[0]} \")\n",
        "print(f\"Avg words treated: {data.total_words_treated.sum()/data.shape[0]}\")"
      ],
      "execution_count": 6,
      "outputs": [
        {
          "output_type": "stream",
          "name": "stdout",
          "text": [
            "Avg words raw: 182.72645040548971 \n",
            "Avg words treated: 121.0068621334997\n"
          ]
        }
      ]
    },
    {
      "cell_type": "code",
      "metadata": {
        "id": "GKFdH_2ixZGa"
      },
      "source": [
        "##store headlines and labels in respective lists\n",
        "news = list(data['article_treated'])\n",
        "labels = list(data['label'])"
      ],
      "execution_count": 7,
      "outputs": []
    },
    {
      "cell_type": "code",
      "metadata": {
        "id": "EEeoeIWtxquv"
      },
      "source": [
        "from sklearn.model_selection import train_test_split\n",
        "training_sentences, testing_sentences, training_labels, testing_labels = train_test_split(news, labels, test_size=0.20, random_state=33)"
      ],
      "execution_count": 8,
      "outputs": []
    },
    {
      "cell_type": "code",
      "metadata": {
        "colab": {
          "base_uri": "https://localhost:8080/"
        },
        "id": "-TLaaqahPEQc",
        "outputId": "d3d0c877-a1e6-4fd1-80f3-bbed09b327a4"
      },
      "source": [
        "print(f\"Training set # of rows: {len(training_sentences)}\")\n",
        "print(f\"Testing set # of rows: {len(testing_sentences)}\")"
      ],
      "execution_count": 9,
      "outputs": [
        {
          "output_type": "stream",
          "name": "stdout",
          "text": [
            "Training set # of rows: 2564\n",
            "Testing set # of rows: 642\n"
          ]
        }
      ]
    },
    {
      "cell_type": "code",
      "metadata": {
        "colab": {
          "base_uri": "https://localhost:8080/"
        },
        "id": "I3t7zZtgOIFK",
        "outputId": "b6324191-d7df-4547-8f95-e70995509659"
      },
      "source": [
        "training_set_tokenizer = Tokenizer()\n",
        "training_set_tokenizer.fit_on_texts(training_sentences)\n",
        "training_vocab_size = len(training_set_tokenizer.word_index) + 1\n",
        "print(f\"Training Set vocabulary size: {training_vocab_size}\")"
      ],
      "execution_count": 10,
      "outputs": [
        {
          "output_type": "stream",
          "name": "stdout",
          "text": [
            "Training Set vocabulary size: 37914\n"
          ]
        }
      ]
    },
    {
      "cell_type": "code",
      "metadata": {
        "colab": {
          "base_uri": "https://localhost:8080/"
        },
        "id": "zAeVpvD1Oon9",
        "outputId": "7f2b3648-302d-4fb9-cdb5-f9e5c9547d7c"
      },
      "source": [
        "testing_set_tokenizer = Tokenizer()\n",
        "testing_set_tokenizer.fit_on_texts(testing_sentences)\n",
        "testing_vocab_size = len(testing_set_tokenizer.word_index) + 1\n",
        "print(f\"Testing Set vocabulary size: {testing_vocab_size}\")"
      ],
      "execution_count": 11,
      "outputs": [
        {
          "output_type": "stream",
          "name": "stdout",
          "text": [
            "Testing Set vocabulary size: 17566\n"
          ]
        }
      ]
    },
    {
      "cell_type": "code",
      "metadata": {
        "id": "qj2oMcUGxe3B",
        "colab": {
          "base_uri": "https://localhost:8080/"
        },
        "outputId": "eda8df05-c874-42bf-ddcc-41eb79457832"
      },
      "source": [
        "##define tokenizing and padding parameters\n",
        "# vocab_size = 10000 # should be the number of distinct words in the dataset\n",
        "# max_length = 120 # should be the max length all the training set\n",
        "\n",
        "\n",
        "max_length = data['total_words_treated'].max()\n",
        "print(f\"Max number of words in a text: {max_length}\")\n",
        "\n",
        "\n",
        "trunc_type='post' # drops the excess sequences at the end of the sequence\n",
        "padding_type='post' # add zeroesto the end part of the sequence\n",
        "oov_tok = \"<OOV>\"\n"
      ],
      "execution_count": 12,
      "outputs": [
        {
          "output_type": "stream",
          "name": "stdout",
          "text": [
            "Max number of words in a text: 685\n"
          ]
        }
      ]
    },
    {
      "cell_type": "code",
      "metadata": {
        "id": "XZz41qumxsn0",
        "colab": {
          "base_uri": "https://localhost:8080/"
        },
        "outputId": "2efee1d4-0d34-4404-8bdf-f19e3a44c83c"
      },
      "source": [
        "tokenizer = Tokenizer(num_words=max_length, oov_token=oov_tok)\n",
        "tokenizer.fit_on_texts(training_sentences)\n",
        "\n",
        "word_index = tokenizer.word_index\n",
        "\n",
        "import random\n",
        "print(\"Sample tokenized words\")\n",
        "print(dict(random.sample(word_index.items(), 10))) \n",
        "\n",
        "training_sequences = tokenizer.texts_to_sequences(training_sentences)\n",
        "training_padded = pad_sequences(training_sequences, maxlen=max_length, padding=padding_type, truncating=trunc_type)\n",
        "\n",
        "testing_sequences = tokenizer.texts_to_sequences(testing_sentences)\n",
        "testing_padded = pad_sequences(testing_sequences, maxlen=max_length, padding=padding_type, truncating=trunc_type)"
      ],
      "execution_count": 13,
      "outputs": [
        {
          "output_type": "stream",
          "name": "stdout",
          "text": [
            "Sample tokenized words\n",
            "{'messages': 4770, 'xie': 18504, 'outlet': 6966, 'higit': 981, 'navotas': 7875, 'nakalulungkot': 11358, 'modo': 31418, 'doubtful': 10898, 'sparring': 15070, 'kagaguhang': 24426}\n"
          ]
        }
      ]
    },
    {
      "cell_type": "code",
      "metadata": {
        "id": "Ni18ksrex2h5"
      },
      "source": [
        "training_padded = np.array(training_padded)\n",
        "training_labels = np.array(training_labels)\n",
        "testing_padded = np.array(testing_padded)\n",
        "testing_labels = np.array(testing_labels)"
      ],
      "execution_count": 14,
      "outputs": []
    },
    {
      "cell_type": "code",
      "metadata": {
        "id": "v6RTFJ0tx4Tm",
        "colab": {
          "base_uri": "https://localhost:8080/"
        },
        "outputId": "4f42af6a-eab1-4544-f93d-a1481b9df534"
      },
      "source": [
        "tf.random.set_seed(69)\n",
        "embedding_dim = 300\n",
        "\n",
        "\n",
        "model = tf.keras.Sequential([\n",
        "    tf.keras.layers.Embedding(training_vocab_size, embedding_dim, input_length=max_length),\n",
        "\n",
        "    # Uncomment for LSTM\n",
        "    tf.keras.layers.Bidirectional(tf.keras.layers.LSTM(512, return_sequences=True)),\n",
        "    # tf.keras.layers.Bidirectional(tf.keras.layers.LSTM(512, return_sequences=False)),\n",
        "    tf.keras.layers.Bidirectional(tf.keras.layers.LSTM(256)),\n",
        "    tf.keras.layers.Dense(24, activation='relu'),\n",
        "    tf.keras.layers.Dense(1, activation='sigmoid')\n",
        "])\n",
        "\n",
        "\n",
        "opt = tf.keras.optimizers.Adam(learning_rate=0.0001)\n",
        "\n",
        "##compile the model\n",
        "model.compile(loss='binary_crossentropy',optimizer=opt,metrics=['accuracy'])\n",
        "model.summary()\n",
        "checkpoint_path = \"training/cp.ckpt\"\n"
      ],
      "execution_count": 19,
      "outputs": [
        {
          "output_type": "stream",
          "name": "stdout",
          "text": [
            "Model: \"sequential\"\n",
            "_________________________________________________________________\n",
            "Layer (type)                 Output Shape              Param #   \n",
            "=================================================================\n",
            "embedding (Embedding)        (None, 685, 300)          11374200  \n",
            "_________________________________________________________________\n",
            "bidirectional (Bidirectional (None, 685, 1024)         3330048   \n",
            "_________________________________________________________________\n",
            "bidirectional_1 (Bidirection (None, 512)               2623488   \n",
            "_________________________________________________________________\n",
            "dense (Dense)                (None, 24)                12312     \n",
            "_________________________________________________________________\n",
            "dense_1 (Dense)              (None, 1)                 25        \n",
            "=================================================================\n",
            "Total params: 17,340,073\n",
            "Trainable params: 17,340,073\n",
            "Non-trainable params: 0\n",
            "_________________________________________________________________\n"
          ]
        }
      ]
    },
    {
      "cell_type": "code",
      "metadata": {
        "colab": {
          "base_uri": "https://localhost:8080/"
        },
        "id": "ErQRXXWl4IFP",
        "outputId": "87ab7d32-489c-497b-db20-327ab074e999"
      },
      "source": [
        "import os\n",
        "checkpoint_dir = os.path.dirname(checkpoint_path)\n",
        "\n",
        "# Create a callback that saves the model's weights\n",
        "cp_callback = tf.keras.callbacks.ModelCheckpoint(filepath=checkpoint_path,\n",
        "                                                 save_weights_only=True,\n",
        "                                                 verbose=2,\n",
        "                                                 monitor='val_accuracy',\n",
        "                                                  mode='max',\n",
        "                                                  save_best_only=True)\n",
        "\n",
        "# Train the model with the new callback\n",
        "history = model.fit(training_padded, \n",
        "          training_labels,  \n",
        "          epochs=30,\n",
        "          validation_data=(testing_padded, testing_labels),\n",
        "          callbacks=[cp_callback],\n",
        "          verbose=2)  # Pass callback to training"
      ],
      "execution_count": null,
      "outputs": [
        {
          "output_type": "stream",
          "name": "stdout",
          "text": [
            "Epoch 1/30\n",
            "81/81 - 97s - loss: 0.5739 - accuracy: 0.6798 - val_loss: 0.4089 - val_accuracy: 0.8131\n",
            "\n",
            "Epoch 00001: val_accuracy improved from -inf to 0.81308, saving model to training/cp.ckpt\n",
            "Epoch 2/30\n",
            "81/81 - 89s - loss: 0.3530 - accuracy: 0.8495 - val_loss: 0.2709 - val_accuracy: 0.8972\n",
            "\n",
            "Epoch 00002: val_accuracy improved from 0.81308 to 0.89720, saving model to training/cp.ckpt\n",
            "Epoch 3/30\n",
            "81/81 - 89s - loss: 0.2421 - accuracy: 0.9064 - val_loss: 0.2212 - val_accuracy: 0.9159\n",
            "\n",
            "Epoch 00003: val_accuracy improved from 0.89720 to 0.91589, saving model to training/cp.ckpt\n",
            "Epoch 4/30\n",
            "81/81 - 89s - loss: 0.1902 - accuracy: 0.9376 - val_loss: 0.1808 - val_accuracy: 0.9470\n",
            "\n",
            "Epoch 00004: val_accuracy improved from 0.91589 to 0.94704, saving model to training/cp.ckpt\n",
            "Epoch 5/30\n",
            "81/81 - 89s - loss: 0.1698 - accuracy: 0.9345 - val_loss: 0.2161 - val_accuracy: 0.9190\n",
            "\n",
            "Epoch 00005: val_accuracy did not improve from 0.94704\n",
            "Epoch 6/30\n",
            "81/81 - 89s - loss: 0.1138 - accuracy: 0.9602 - val_loss: 0.1608 - val_accuracy: 0.9502\n",
            "\n",
            "Epoch 00006: val_accuracy improved from 0.94704 to 0.95016, saving model to training/cp.ckpt\n",
            "Epoch 7/30\n",
            "81/81 - 89s - loss: 0.1004 - accuracy: 0.9665 - val_loss: 0.1905 - val_accuracy: 0.9346\n",
            "\n",
            "Epoch 00007: val_accuracy did not improve from 0.95016\n",
            "Epoch 8/30\n",
            "81/81 - 89s - loss: 0.0855 - accuracy: 0.9680 - val_loss: 0.1552 - val_accuracy: 0.9408\n",
            "\n",
            "Epoch 00008: val_accuracy did not improve from 0.95016\n",
            "Epoch 9/30\n",
            "81/81 - 89s - loss: 0.0728 - accuracy: 0.9735 - val_loss: 0.1541 - val_accuracy: 0.9455\n",
            "\n",
            "Epoch 00009: val_accuracy did not improve from 0.95016\n",
            "Epoch 10/30\n",
            "81/81 - 89s - loss: 0.0571 - accuracy: 0.9813 - val_loss: 0.1816 - val_accuracy: 0.9439\n",
            "\n",
            "Epoch 00010: val_accuracy did not improve from 0.95016\n",
            "Epoch 11/30\n",
            "81/81 - 89s - loss: 0.0624 - accuracy: 0.9746 - val_loss: 0.2172 - val_accuracy: 0.9408\n",
            "\n",
            "Epoch 00011: val_accuracy did not improve from 0.95016\n",
            "Epoch 12/30\n",
            "81/81 - 89s - loss: 0.0516 - accuracy: 0.9793 - val_loss: 0.1889 - val_accuracy: 0.9486\n",
            "\n",
            "Epoch 00012: val_accuracy did not improve from 0.95016\n",
            "Epoch 13/30\n",
            "81/81 - 89s - loss: 0.0446 - accuracy: 0.9848 - val_loss: 0.2581 - val_accuracy: 0.9393\n",
            "\n",
            "Epoch 00013: val_accuracy did not improve from 0.95016\n",
            "Epoch 14/30\n",
            "81/81 - 89s - loss: 0.0397 - accuracy: 0.9848 - val_loss: 0.2251 - val_accuracy: 0.9346\n",
            "\n",
            "Epoch 00014: val_accuracy did not improve from 0.95016\n",
            "Epoch 15/30\n",
            "81/81 - 89s - loss: 0.0456 - accuracy: 0.9856 - val_loss: 0.2216 - val_accuracy: 0.9252\n",
            "\n",
            "Epoch 00015: val_accuracy did not improve from 0.95016\n",
            "Epoch 16/30\n",
            "81/81 - 89s - loss: 0.0288 - accuracy: 0.9918 - val_loss: 0.2480 - val_accuracy: 0.9455\n",
            "\n",
            "Epoch 00016: val_accuracy did not improve from 0.95016\n",
            "Epoch 17/30\n",
            "81/81 - 89s - loss: 0.0429 - accuracy: 0.9848 - val_loss: 0.2042 - val_accuracy: 0.9548\n",
            "\n",
            "Epoch 00017: val_accuracy improved from 0.95016 to 0.95483, saving model to training/cp.ckpt\n",
            "Epoch 18/30\n",
            "81/81 - 89s - loss: 0.0246 - accuracy: 0.9914 - val_loss: 0.2338 - val_accuracy: 0.9346\n",
            "\n",
            "Epoch 00018: val_accuracy did not improve from 0.95483\n",
            "Epoch 19/30\n",
            "81/81 - 89s - loss: 0.0787 - accuracy: 0.9723 - val_loss: 0.1868 - val_accuracy: 0.9361\n",
            "\n",
            "Epoch 00019: val_accuracy did not improve from 0.95483\n",
            "Epoch 20/30\n",
            "81/81 - 89s - loss: 0.0172 - accuracy: 0.9953 - val_loss: 0.2042 - val_accuracy: 0.9564\n",
            "\n",
            "Epoch 00020: val_accuracy improved from 0.95483 to 0.95639, saving model to training/cp.ckpt\n",
            "Epoch 21/30\n",
            "81/81 - 89s - loss: 0.0115 - accuracy: 0.9957 - val_loss: 0.2432 - val_accuracy: 0.9470\n",
            "\n",
            "Epoch 00021: val_accuracy did not improve from 0.95639\n",
            "Epoch 22/30\n",
            "81/81 - 89s - loss: 0.0085 - accuracy: 0.9969 - val_loss: 0.2677 - val_accuracy: 0.9470\n",
            "\n",
            "Epoch 00022: val_accuracy did not improve from 0.95639\n",
            "Epoch 23/30\n",
            "81/81 - 89s - loss: 0.0124 - accuracy: 0.9965 - val_loss: 0.2692 - val_accuracy: 0.9486\n",
            "\n",
            "Epoch 00023: val_accuracy did not improve from 0.95639\n",
            "Epoch 24/30\n",
            "81/81 - 89s - loss: 0.0540 - accuracy: 0.9809 - val_loss: 0.3193 - val_accuracy: 0.9361\n",
            "\n",
            "Epoch 00024: val_accuracy did not improve from 0.95639\n",
            "Epoch 25/30\n",
            "81/81 - 89s - loss: 0.0146 - accuracy: 0.9941 - val_loss: 0.2332 - val_accuracy: 0.9533\n",
            "\n",
            "Epoch 00025: val_accuracy did not improve from 0.95639\n",
            "Epoch 26/30\n",
            "81/81 - 89s - loss: 0.0155 - accuracy: 0.9949 - val_loss: 0.2579 - val_accuracy: 0.9221\n",
            "\n",
            "Epoch 00026: val_accuracy did not improve from 0.95639\n",
            "Epoch 27/30\n",
            "81/81 - 89s - loss: 0.0130 - accuracy: 0.9965 - val_loss: 0.2394 - val_accuracy: 0.9548\n",
            "\n",
            "Epoch 00027: val_accuracy did not improve from 0.95639\n",
            "Epoch 28/30\n",
            "81/81 - 89s - loss: 0.0013 - accuracy: 1.0000 - val_loss: 0.2536 - val_accuracy: 0.9533\n",
            "\n",
            "Epoch 00028: val_accuracy did not improve from 0.95639\n",
            "Epoch 29/30\n",
            "81/81 - 89s - loss: 6.7861e-04 - accuracy: 1.0000 - val_loss: 0.2620 - val_accuracy: 0.9595\n",
            "\n",
            "Epoch 00029: val_accuracy improved from 0.95639 to 0.95950, saving model to training/cp.ckpt\n",
            "Epoch 30/30\n",
            "81/81 - 89s - loss: 5.2116e-04 - accuracy: 1.0000 - val_loss: 0.2744 - val_accuracy: 0.9579\n",
            "\n",
            "Epoch 00030: val_accuracy did not improve from 0.95950\n"
          ]
        }
      ]
    },
    {
      "cell_type": "code",
      "metadata": {
        "colab": {
          "base_uri": "https://localhost:8080/",
          "height": 414
        },
        "id": "aCUF6H_nDAJM",
        "outputId": "04afaaa2-7bae-42a3-beb4-831387faa423"
      },
      "source": [
        "# Loads the weights\n",
        "model.load_weights(checkpoint_path)\n",
        "\n",
        "# Re-evaluate the model\n",
        "loss, acc = model.evaluate(testing_padded, testing_labels, verbose=2)\n",
        "print(\"Restored model, accuracy: {:5.2f}%\".format(100 * acc))"
      ],
      "execution_count": 20,
      "outputs": [
        {
          "output_type": "error",
          "ename": "NotFoundError",
          "evalue": "ignored",
          "traceback": [
            "\u001b[0;31m---------------------------------------------------------------------------\u001b[0m",
            "\u001b[0;31mRuntimeError\u001b[0m                              Traceback (most recent call last)",
            "\u001b[0;32m/usr/local/lib/python3.7/dist-packages/tensorflow/python/training/py_checkpoint_reader.py\u001b[0m in \u001b[0;36mNewCheckpointReader\u001b[0;34m(filepattern)\u001b[0m\n\u001b[1;32m     95\u001b[0m   \u001b[0;32mtry\u001b[0m\u001b[0;34m:\u001b[0m\u001b[0;34m\u001b[0m\u001b[0;34m\u001b[0m\u001b[0m\n\u001b[0;32m---> 96\u001b[0;31m     \u001b[0;32mreturn\u001b[0m \u001b[0mCheckpointReader\u001b[0m\u001b[0;34m(\u001b[0m\u001b[0mcompat\u001b[0m\u001b[0;34m.\u001b[0m\u001b[0mas_bytes\u001b[0m\u001b[0;34m(\u001b[0m\u001b[0mfilepattern\u001b[0m\u001b[0;34m)\u001b[0m\u001b[0;34m)\u001b[0m\u001b[0;34m\u001b[0m\u001b[0;34m\u001b[0m\u001b[0m\n\u001b[0m\u001b[1;32m     97\u001b[0m   \u001b[0;31m# TODO(b/143319754): Remove the RuntimeError casting logic once we resolve the\u001b[0m\u001b[0;34m\u001b[0m\u001b[0;34m\u001b[0m\u001b[0;34m\u001b[0m\u001b[0m\n",
            "\u001b[0;31mRuntimeError\u001b[0m: Unsuccessful TensorSliceReader constructor: Failed to find any matching files for training/cp.ckpt",
            "\nDuring handling of the above exception, another exception occurred:\n",
            "\u001b[0;31mNotFoundError\u001b[0m                             Traceback (most recent call last)",
            "\u001b[0;32m<ipython-input-20-82275379696e>\u001b[0m in \u001b[0;36m<module>\u001b[0;34m()\u001b[0m\n\u001b[1;32m      1\u001b[0m \u001b[0;34m\u001b[0m\u001b[0m\n\u001b[1;32m      2\u001b[0m \u001b[0;31m# Loads the weights\u001b[0m\u001b[0;34m\u001b[0m\u001b[0;34m\u001b[0m\u001b[0;34m\u001b[0m\u001b[0m\n\u001b[0;32m----> 3\u001b[0;31m \u001b[0mmodel\u001b[0m\u001b[0;34m.\u001b[0m\u001b[0mload_weights\u001b[0m\u001b[0;34m(\u001b[0m\u001b[0mcheckpoint_path\u001b[0m\u001b[0;34m)\u001b[0m\u001b[0;34m\u001b[0m\u001b[0;34m\u001b[0m\u001b[0m\n\u001b[0m\u001b[1;32m      4\u001b[0m \u001b[0;34m\u001b[0m\u001b[0m\n\u001b[1;32m      5\u001b[0m \u001b[0;31m# Re-evaluate the model\u001b[0m\u001b[0;34m\u001b[0m\u001b[0;34m\u001b[0m\u001b[0;34m\u001b[0m\u001b[0m\n",
            "\u001b[0;32m/usr/local/lib/python3.7/dist-packages/keras/engine/training.py\u001b[0m in \u001b[0;36mload_weights\u001b[0;34m(self, filepath, by_name, skip_mismatch, options)\u001b[0m\n\u001b[1;32m   2327\u001b[0m           'True when by_name is True.')\n\u001b[1;32m   2328\u001b[0m \u001b[0;34m\u001b[0m\u001b[0m\n\u001b[0;32m-> 2329\u001b[0;31m     \u001b[0mfilepath\u001b[0m\u001b[0;34m,\u001b[0m \u001b[0msave_format\u001b[0m \u001b[0;34m=\u001b[0m \u001b[0m_detect_save_format\u001b[0m\u001b[0;34m(\u001b[0m\u001b[0mfilepath\u001b[0m\u001b[0;34m)\u001b[0m\u001b[0;34m\u001b[0m\u001b[0;34m\u001b[0m\u001b[0m\n\u001b[0m\u001b[1;32m   2330\u001b[0m     \u001b[0;32mif\u001b[0m \u001b[0msave_format\u001b[0m \u001b[0;34m==\u001b[0m \u001b[0;34m'tf'\u001b[0m\u001b[0;34m:\u001b[0m\u001b[0;34m\u001b[0m\u001b[0;34m\u001b[0m\u001b[0m\n\u001b[1;32m   2331\u001b[0m       \u001b[0mstatus\u001b[0m \u001b[0;34m=\u001b[0m \u001b[0mself\u001b[0m\u001b[0;34m.\u001b[0m\u001b[0m_trackable_saver\u001b[0m\u001b[0;34m.\u001b[0m\u001b[0mrestore\u001b[0m\u001b[0;34m(\u001b[0m\u001b[0mfilepath\u001b[0m\u001b[0;34m,\u001b[0m \u001b[0moptions\u001b[0m\u001b[0;34m)\u001b[0m\u001b[0;34m\u001b[0m\u001b[0;34m\u001b[0m\u001b[0m\n",
            "\u001b[0;32m/usr/local/lib/python3.7/dist-packages/keras/engine/training.py\u001b[0m in \u001b[0;36m_detect_save_format\u001b[0;34m(filepath)\u001b[0m\n\u001b[1;32m   3012\u001b[0m   \u001b[0;31m# directory. It's possible for filepath to be both a prefix and directory.\u001b[0m\u001b[0;34m\u001b[0m\u001b[0;34m\u001b[0m\u001b[0;34m\u001b[0m\u001b[0m\n\u001b[1;32m   3013\u001b[0m   \u001b[0;31m# Prioritize checkpoint over SavedModel.\u001b[0m\u001b[0;34m\u001b[0m\u001b[0;34m\u001b[0m\u001b[0;34m\u001b[0m\u001b[0m\n\u001b[0;32m-> 3014\u001b[0;31m   \u001b[0;32mif\u001b[0m \u001b[0m_is_readable_tf_checkpoint\u001b[0m\u001b[0;34m(\u001b[0m\u001b[0mfilepath\u001b[0m\u001b[0;34m)\u001b[0m\u001b[0;34m:\u001b[0m\u001b[0;34m\u001b[0m\u001b[0;34m\u001b[0m\u001b[0m\n\u001b[0m\u001b[1;32m   3015\u001b[0m     \u001b[0msave_format\u001b[0m \u001b[0;34m=\u001b[0m \u001b[0;34m'tf'\u001b[0m\u001b[0;34m\u001b[0m\u001b[0;34m\u001b[0m\u001b[0m\n\u001b[1;32m   3016\u001b[0m   \u001b[0;32melif\u001b[0m \u001b[0mtf\u001b[0m\u001b[0;34m.\u001b[0m\u001b[0msaved_model\u001b[0m\u001b[0;34m.\u001b[0m\u001b[0mcontains_saved_model\u001b[0m\u001b[0;34m(\u001b[0m\u001b[0mfilepath\u001b[0m\u001b[0;34m)\u001b[0m\u001b[0;34m:\u001b[0m\u001b[0;34m\u001b[0m\u001b[0;34m\u001b[0m\u001b[0m\n",
            "\u001b[0;32m/usr/local/lib/python3.7/dist-packages/keras/engine/training.py\u001b[0m in \u001b[0;36m_is_readable_tf_checkpoint\u001b[0;34m(filepath)\u001b[0m\n\u001b[1;32m   3033\u001b[0m \u001b[0;32mdef\u001b[0m \u001b[0m_is_readable_tf_checkpoint\u001b[0m\u001b[0;34m(\u001b[0m\u001b[0mfilepath\u001b[0m\u001b[0;34m)\u001b[0m\u001b[0;34m:\u001b[0m\u001b[0;34m\u001b[0m\u001b[0;34m\u001b[0m\u001b[0m\n\u001b[1;32m   3034\u001b[0m   \u001b[0;32mtry\u001b[0m\u001b[0;34m:\u001b[0m\u001b[0;34m\u001b[0m\u001b[0;34m\u001b[0m\u001b[0m\n\u001b[0;32m-> 3035\u001b[0;31m     \u001b[0mtf\u001b[0m\u001b[0;34m.\u001b[0m\u001b[0mcompat\u001b[0m\u001b[0;34m.\u001b[0m\u001b[0mv1\u001b[0m\u001b[0;34m.\u001b[0m\u001b[0mtrain\u001b[0m\u001b[0;34m.\u001b[0m\u001b[0mNewCheckpointReader\u001b[0m\u001b[0;34m(\u001b[0m\u001b[0mfilepath\u001b[0m\u001b[0;34m)\u001b[0m\u001b[0;34m\u001b[0m\u001b[0;34m\u001b[0m\u001b[0m\n\u001b[0m\u001b[1;32m   3036\u001b[0m     \u001b[0;32mreturn\u001b[0m \u001b[0;32mTrue\u001b[0m\u001b[0;34m\u001b[0m\u001b[0;34m\u001b[0m\u001b[0m\n\u001b[1;32m   3037\u001b[0m   \u001b[0;32mexcept\u001b[0m \u001b[0mtf\u001b[0m\u001b[0;34m.\u001b[0m\u001b[0merrors\u001b[0m\u001b[0;34m.\u001b[0m\u001b[0mDataLossError\u001b[0m\u001b[0;34m:\u001b[0m\u001b[0;34m\u001b[0m\u001b[0;34m\u001b[0m\u001b[0m\n",
            "\u001b[0;32m/usr/local/lib/python3.7/dist-packages/tensorflow/python/training/py_checkpoint_reader.py\u001b[0m in \u001b[0;36mNewCheckpointReader\u001b[0;34m(filepattern)\u001b[0m\n\u001b[1;32m     98\u001b[0m   \u001b[0;31m# issue with throwing python exceptions from C++.\u001b[0m\u001b[0;34m\u001b[0m\u001b[0;34m\u001b[0m\u001b[0;34m\u001b[0m\u001b[0m\n\u001b[1;32m     99\u001b[0m   \u001b[0;32mexcept\u001b[0m \u001b[0mRuntimeError\u001b[0m \u001b[0;32mas\u001b[0m \u001b[0me\u001b[0m\u001b[0;34m:\u001b[0m\u001b[0;34m\u001b[0m\u001b[0;34m\u001b[0m\u001b[0m\n\u001b[0;32m--> 100\u001b[0;31m     \u001b[0merror_translator\u001b[0m\u001b[0;34m(\u001b[0m\u001b[0me\u001b[0m\u001b[0;34m)\u001b[0m\u001b[0;34m\u001b[0m\u001b[0;34m\u001b[0m\u001b[0m\n\u001b[0m",
            "\u001b[0;32m/usr/local/lib/python3.7/dist-packages/tensorflow/python/training/py_checkpoint_reader.py\u001b[0m in \u001b[0;36merror_translator\u001b[0;34m(e)\u001b[0m\n\u001b[1;32m     33\u001b[0m       \u001b[0;34m'Failed to find any '\u001b[0m\u001b[0;34m\u001b[0m\u001b[0;34m\u001b[0m\u001b[0m\n\u001b[1;32m     34\u001b[0m       'matching files for') in error_message:\n\u001b[0;32m---> 35\u001b[0;31m     \u001b[0;32mraise\u001b[0m \u001b[0merrors_impl\u001b[0m\u001b[0;34m.\u001b[0m\u001b[0mNotFoundError\u001b[0m\u001b[0;34m(\u001b[0m\u001b[0;32mNone\u001b[0m\u001b[0;34m,\u001b[0m \u001b[0;32mNone\u001b[0m\u001b[0;34m,\u001b[0m \u001b[0merror_message\u001b[0m\u001b[0;34m)\u001b[0m\u001b[0;34m\u001b[0m\u001b[0;34m\u001b[0m\u001b[0m\n\u001b[0m\u001b[1;32m     36\u001b[0m   elif 'Sliced checkpoints are not supported' in error_message or (\n\u001b[1;32m     37\u001b[0m       \u001b[0;34m'Data type '\u001b[0m\u001b[0;34m\u001b[0m\u001b[0;34m\u001b[0m\u001b[0m\n",
            "\u001b[0;31mNotFoundError\u001b[0m: Unsuccessful TensorSliceReader constructor: Failed to find any matching files for training/cp.ckpt"
          ]
        }
      ]
    },
    {
      "cell_type": "code",
      "metadata": {
        "id": "ENS8xEAf5aih",
        "colab": {
          "base_uri": "https://localhost:8080/"
        },
        "outputId": "717c656e-c466-42e3-a38a-326dd2d9e008"
      },
      "source": [
        "from sklearn.metrics import classification_report\n",
        "\n",
        "\n",
        "sequences = tokenizer.texts_to_sequences(testing_sentences)\n",
        "padded_seqs = pad_sequences(sequences, maxlen=max_length, padding=padding_type, truncating=trunc_type)\n",
        "\n",
        "y_pred = model.predict(padded_seqs)\n",
        "print(y_pred[0:10])\n",
        "\n",
        "y_pred = [1 if x > 0.5 else 0 for x in y_pred]\n",
        "print(y_pred[0:10])\n",
        "print(testing_labels[0:10])\n",
        "\n",
        "print(classification_report(testing_labels, y_pred))\n"
      ],
      "execution_count": null,
      "outputs": [
        {
          "output_type": "stream",
          "name": "stdout",
          "text": [
            "[[9.9991393e-01]\n",
            " [9.9986744e-01]\n",
            " [2.9032302e-04]\n",
            " [9.9981052e-01]\n",
            " [6.7680354e-05]\n",
            " [9.9997342e-01]\n",
            " [9.9997425e-01]\n",
            " [9.9992609e-01]\n",
            " [1.6790550e-04]\n",
            " [9.9997413e-01]]\n",
            "[1, 1, 0, 1, 0, 1, 1, 1, 0, 1]\n",
            "[1 1 0 1 0 1 1 1 1 1]\n",
            "              precision    recall  f1-score   support\n",
            "\n",
            "           0       0.95      0.96      0.95       298\n",
            "           1       0.96      0.96      0.96       344\n",
            "\n",
            "    accuracy                           0.96       642\n",
            "   macro avg       0.96      0.96      0.96       642\n",
            "weighted avg       0.96      0.96      0.96       642\n",
            "\n"
          ]
        }
      ]
    },
    {
      "cell_type": "code",
      "metadata": {
        "colab": {
          "base_uri": "https://localhost:8080/"
        },
        "id": "sQ874HDNG_me",
        "outputId": "0b0fcaea-d238-493d-f5d5-93fa3ada23cc"
      },
      "source": [
        "from sklearn.metrics import f1_score, precision_score, recall_score, confusion_matrix\n",
        "\n",
        "# Print f1, precision, and recall scores\n",
        "print(f'Precision: {precision_score(testing_labels, y_pred , average=\"macro\")}')\n",
        "print(f'Recall: {recall_score(testing_labels, y_pred , average=\"macro\")}')\n",
        "print(f'f1-score: {f1_score(testing_labels, y_pred , average=\"macro\")}')"
      ],
      "execution_count": null,
      "outputs": [
        {
          "output_type": "stream",
          "name": "stdout",
          "text": [
            "Precision: 0.9576381914447576\n",
            "Recall: 0.957839082253785\n",
            "f1-score: 0.9577362796515329\n"
          ]
        }
      ]
    },
    {
      "cell_type": "code",
      "metadata": {
        "colab": {
          "base_uri": "https://localhost:8080/",
          "height": 277
        },
        "id": "1yyTwKjtdIYY",
        "outputId": "a2274c77-8bd5-4a9f-d583-b8d62050f563"
      },
      "source": [
        "from sklearn.metrics import ConfusionMatrixDisplay\n",
        "from sklearn.metrics import confusion_matrix\n",
        "import matplotlib.pyplot as plt\n",
        "import numpy as np\n",
        "\n",
        "labels = [\"Legitimate News\", \"Fake News\"]\n",
        "cm = confusion_matrix(testing_labels, y_pred)\n",
        "disp = ConfusionMatrixDisplay(confusion_matrix=cm, display_labels=labels)\n",
        "disp.plot(cmap=plt.cm.Blues, values_format='')\n",
        "plt.show()"
      ],
      "execution_count": null,
      "outputs": [
        {
          "output_type": "display_data",
          "data": {
            "image/png": "[encoded data removed]",
            "text/plain": [
              "<Figure size 432x288 with 2 Axes>"
            ]
          },
          "metadata": {
            "needs_background": "light"
          }
        }
      ]
    },
    {
      "cell_type": "markdown",
      "metadata": {
        "id": "9wXjGlu-ZkjF"
      },
      "source": [
        "Accuracy = how many predictions were right, regardless of the label. (e.g. was correct 5 out of 10 times)\n",
        "  - doesnt matter if negative or negative preditions, as long as correct.\n",
        "\n",
        "Precision = out of all  predictions, how many did you guess correctly (5 yes out of 7 yeses OUT of 10 input). (TP/TP+FP)\n",
        "  - uses predictions as baseline\n",
        "  - e.g. out of all my dog predictions, how many did i get correctly\n",
        "  - e.g. out of all my not dog predictions, how many did i get correctly\n",
        "\n",
        "\n",
        "Recall = out of all truth samples, how many did u get correcty (TP/TP + FN)\n",
        "  - uses the truth values as baseline\n",
        "  - e.g. how many predictiions of dog did i get from all the dog input\n",
        "  - e.g. how many predictions of not dog i got from all the not dog input\n"
      ]
    },
    {
      "cell_type": "code",
      "metadata": {
        "id": "75tLuwuqx-Zf",
        "colab": {
          "base_uri": "https://localhost:8080/",
          "height": 542
        },
        "outputId": "d71aab09-986d-4bf3-c41f-0c123e1a418b"
      },
      "source": [
        "import matplotlib.pyplot as plt\n",
        "\n",
        "def plot_graphs(history, string):\n",
        "  plt.plot(history.history[string])\n",
        "  plt.plot(history.history['val_'+string])\n",
        "  \n",
        "  plt.legend([string, 'val_'+string])\n",
        "  plt.xlabel(\"Epochs\")\n",
        "  plt.ylabel(string)\n",
        "  plt.show()\n",
        "\n",
        "\n",
        "  \n",
        "plot_graphs(history, \"accuracy\")\n",
        "plot_graphs(history, \"loss\")"
      ],
      "execution_count": null,
      "outputs": [
        {
          "output_type": "display_data",
          "data": {
            "image/png": "[encoded data removed]",
            "text/plain": [
              "<Figure size 432x288 with 1 Axes>"
            ]
          },
          "metadata": {
            "needs_background": "light"
          }
        },
        {
          "output_type": "display_data",
          "data": {
            "image/png": "[encoded data removed]",
            "text/plain": [
              "<Figure size 432x288 with 1 Axes>"
            ]
          },
          "metadata": {
            "needs_background": "light"
          }
        }
      ]
    },
    {
      "cell_type": "code",
      "metadata": {
        "id": "-UXdkB6Abxgz"
      },
      "source": [
        "def get_predictions(sentences):\n",
        "  ##prepare the sequences of the sentences in question\n",
        "  sequences = tokenizer.texts_to_sequences(sentence) # displays the sequences of words in encoded form\n",
        "  padded_seqs = pad_sequences(sequences, maxlen=max_length, padding=padding_type, truncating=trunc_type)\n",
        "  predictions_list = model.predict(padded_seqs)\n",
        "  predictions_list = ['%f' % x for x in predictions_list]\n",
        "  print(predictions_list)\n"
      ],
      "execution_count": null,
      "outputs": []
    }
  ]
}